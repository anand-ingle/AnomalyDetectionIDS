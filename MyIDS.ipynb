{
 "cells": [
  {
   "cell_type": "markdown",
   "metadata": {},
   "source": [
    "# Intrusion Detection System Using Machine Learning\n",
    "\n"
   ]
  },
  {
   "cell_type": "markdown",
   "metadata": {
    "collapsed": true
   },
   "source": [
    "### Version Check"
   ]
  },
  {
   "cell_type": "code",
   "execution_count": 1,
   "metadata": {},
   "outputs": [
    {
     "name": "stdout",
     "output_type": "stream",
     "text": [
      "0.23.4\n",
      "1.15.4\n",
      "3.7.1 (default, Dec 10 2018, 22:54:23) [MSC v.1915 64 bit (AMD64)]\n",
      "0.20.1\n"
     ]
    }
   ],
   "source": [
    "import pandas as pd\n",
    "import numpy as np\n",
    "import sys\n",
    "import sklearn\n",
    "print(pd.__version__)\n",
    "print(np.__version__)\n",
    "print(sys.version)\n",
    "print(sklearn.__version__)"
   ]
  },
  {
   "cell_type": "markdown",
   "metadata": {},
   "source": [
    "# 1. Data import"
   ]
  },
  {
   "cell_type": "code",
   "execution_count": 2,
   "metadata": {},
   "outputs": [],
   "source": [
    "import  pandas  as  pd \n",
    "import  numpy  as  np\n",
    "import warnings\n",
    "warnings.filterwarnings('ignore')\n",
    "\n",
    "\n",
    "df  =  pd . read_csv ( 'sa5.csv' ) \n",
    "df . columns  =  [ 'no' ,  'time' , 'ipsrc' ,  'ipdst' ,  'proto' ,  'len', 'info' ] \n",
    "#df  ['time'] = pd.to_datetime(df['time'])\n",
    "# The column [count] with value 1 is added to then make the additions. \n",
    "df['info'] = \"null\"\n",
    "#df.parse_dates=[\"time\"]\n",
    "df['time'] = pd.to_datetime(df['time'])\n",
    "df['count']=1\n"
   ]
  },
  {
   "cell_type": "code",
   "execution_count": 3,
   "metadata": {},
   "outputs": [
    {
     "data": {
      "text/html": [
       "<div>\n",
       "<style scoped>\n",
       "    .dataframe tbody tr th:only-of-type {\n",
       "        vertical-align: middle;\n",
       "    }\n",
       "\n",
       "    .dataframe tbody tr th {\n",
       "        vertical-align: top;\n",
       "    }\n",
       "\n",
       "    .dataframe thead th {\n",
       "        text-align: right;\n",
       "    }\n",
       "</style>\n",
       "<table border=\"1\" class=\"dataframe\">\n",
       "  <thead>\n",
       "    <tr style=\"text-align: right;\">\n",
       "      <th></th>\n",
       "      <th>no</th>\n",
       "      <th>time</th>\n",
       "      <th>ipsrc</th>\n",
       "      <th>ipdst</th>\n",
       "      <th>proto</th>\n",
       "      <th>len</th>\n",
       "      <th>info</th>\n",
       "      <th>count</th>\n",
       "    </tr>\n",
       "  </thead>\n",
       "  <tbody>\n",
       "    <tr>\n",
       "      <th>0</th>\n",
       "      <td>1</td>\n",
       "      <td>2019-03-08 12:01:14</td>\n",
       "      <td>192.168.141.1</td>\n",
       "      <td>239.255.255.250</td>\n",
       "      <td>SSDP</td>\n",
       "      <td>216</td>\n",
       "      <td>null</td>\n",
       "      <td>1</td>\n",
       "    </tr>\n",
       "    <tr>\n",
       "      <th>1</th>\n",
       "      <td>2</td>\n",
       "      <td>2019-03-08 12:01:15</td>\n",
       "      <td>192.168.141.1</td>\n",
       "      <td>239.255.255.250</td>\n",
       "      <td>SSDP</td>\n",
       "      <td>216</td>\n",
       "      <td>null</td>\n",
       "      <td>1</td>\n",
       "    </tr>\n",
       "    <tr>\n",
       "      <th>2</th>\n",
       "      <td>3</td>\n",
       "      <td>2019-03-08 12:01:16</td>\n",
       "      <td>192.168.141.1</td>\n",
       "      <td>239.255.255.250</td>\n",
       "      <td>SSDP</td>\n",
       "      <td>216</td>\n",
       "      <td>null</td>\n",
       "      <td>1</td>\n",
       "    </tr>\n",
       "    <tr>\n",
       "      <th>3</th>\n",
       "      <td>4</td>\n",
       "      <td>2019-03-08 12:01:17</td>\n",
       "      <td>192.168.141.1</td>\n",
       "      <td>239.255.255.250</td>\n",
       "      <td>SSDP</td>\n",
       "      <td>216</td>\n",
       "      <td>null</td>\n",
       "      <td>1</td>\n",
       "    </tr>\n",
       "    <tr>\n",
       "      <th>4</th>\n",
       "      <td>5</td>\n",
       "      <td>2019-03-08 12:01:21</td>\n",
       "      <td>192.168.141.131</td>\n",
       "      <td>192.168.141.2</td>\n",
       "      <td>ICMP</td>\n",
       "      <td>242</td>\n",
       "      <td>null</td>\n",
       "      <td>1</td>\n",
       "    </tr>\n",
       "  </tbody>\n",
       "</table>\n",
       "</div>"
      ],
      "text/plain": [
       "   no                time            ipsrc            ipdst proto  len  info  \\\n",
       "0   1 2019-03-08 12:01:14    192.168.141.1  239.255.255.250  SSDP  216  null   \n",
       "1   2 2019-03-08 12:01:15    192.168.141.1  239.255.255.250  SSDP  216  null   \n",
       "2   3 2019-03-08 12:01:16    192.168.141.1  239.255.255.250  SSDP  216  null   \n",
       "3   4 2019-03-08 12:01:17    192.168.141.1  239.255.255.250  SSDP  216  null   \n",
       "4   5 2019-03-08 12:01:21  192.168.141.131    192.168.141.2  ICMP  242  null   \n",
       "\n",
       "   count  \n",
       "0      1  \n",
       "1      1  \n",
       "2      1  \n",
       "3      1  \n",
       "4      1  "
      ]
     },
     "execution_count": 3,
     "metadata": {},
     "output_type": "execute_result"
    }
   ],
   "source": [
    "df . head (5)"
   ]
  },
  {
   "cell_type": "code",
   "execution_count": null,
   "metadata": {},
   "outputs": [],
   "source": []
  },
  {
   "cell_type": "markdown",
   "metadata": {},
   "source": [
    "# 2 Data Grouping"
   ]
  },
  {
   "cell_type": "code",
   "execution_count": 4,
   "metadata": {
    "scrolled": true
   },
   "outputs": [
    {
     "data": {
      "text/html": [
       "<div>\n",
       "<style scoped>\n",
       "    .dataframe tbody tr th:only-of-type {\n",
       "        vertical-align: middle;\n",
       "    }\n",
       "\n",
       "    .dataframe tbody tr th {\n",
       "        vertical-align: top;\n",
       "    }\n",
       "\n",
       "    .dataframe thead th {\n",
       "        text-align: right;\n",
       "    }\n",
       "</style>\n",
       "<table border=\"1\" class=\"dataframe\">\n",
       "  <thead>\n",
       "    <tr style=\"text-align: right;\">\n",
       "      <th></th>\n",
       "      <th>ipsrc</th>\n",
       "      <th>proto</th>\n",
       "      <th>time</th>\n",
       "      <th>count</th>\n",
       "    </tr>\n",
       "  </thead>\n",
       "  <tbody>\n",
       "    <tr>\n",
       "      <th>84</th>\n",
       "      <td>13.35.130.7</td>\n",
       "      <td>TCP</td>\n",
       "      <td>2019-03-08 12:08:20</td>\n",
       "      <td>5</td>\n",
       "    </tr>\n",
       "    <tr>\n",
       "      <th>85</th>\n",
       "      <td>13.35.130.7</td>\n",
       "      <td>TLSv1.2</td>\n",
       "      <td>2019-03-08 12:08:20</td>\n",
       "      <td>3</td>\n",
       "    </tr>\n",
       "    <tr>\n",
       "      <th>86</th>\n",
       "      <td>13.35.130.94</td>\n",
       "      <td>TCP</td>\n",
       "      <td>2019-03-08 12:07:10</td>\n",
       "      <td>7</td>\n",
       "    </tr>\n",
       "    <tr>\n",
       "      <th>87</th>\n",
       "      <td>13.35.130.94</td>\n",
       "      <td>TCP</td>\n",
       "      <td>2019-03-08 12:07:15</td>\n",
       "      <td>1</td>\n",
       "    </tr>\n",
       "    <tr>\n",
       "      <th>88</th>\n",
       "      <td>13.35.130.94</td>\n",
       "      <td>TCP</td>\n",
       "      <td>2019-03-08 12:07:20</td>\n",
       "      <td>0</td>\n",
       "    </tr>\n",
       "  </tbody>\n",
       "</table>\n",
       "</div>"
      ],
      "text/plain": [
       "           ipsrc    proto                time  count\n",
       "84   13.35.130.7      TCP 2019-03-08 12:08:20      5\n",
       "85   13.35.130.7  TLSv1.2 2019-03-08 12:08:20      3\n",
       "86  13.35.130.94      TCP 2019-03-08 12:07:10      7\n",
       "87  13.35.130.94      TCP 2019-03-08 12:07:15      1\n",
       "88  13.35.130.94      TCP 2019-03-08 12:07:20      0"
      ]
     },
     "execution_count": 4,
     "metadata": {},
     "output_type": "execute_result"
    }
   ],
   "source": [
    "# The grouping is done by [ipdst] and [proto], a .resample of [time] in 5 seconds and the sum is made. \n",
    "# It also resets the index and drops the NaN values. \n",
    "dataGroup2 = df.groupby(['ipsrc','proto']).resample('5S', on= \"time\").sum().reset_index().dropna()\n",
    "pd.options.display.float_format = '{:,.0f}'.format\n",
    "# Drop row with IP\n",
    "local_ip=\"0.0.0.0\"\n",
    "dataGroup2 = dataGroup2[['ipsrc','proto','time','count']]\n",
    "dataGroup2 = dataGroup2[dataGroup2.ipsrc != local_ip]\n",
    "dataGroup2.head(5)"
   ]
  },
  {
   "cell_type": "markdown",
   "metadata": {},
   "source": [
    "## 3 Data Normalization"
   ]
  },
  {
   "cell_type": "code",
   "execution_count": null,
   "metadata": {},
   "outputs": [],
   "source": []
  },
  {
   "cell_type": "code",
   "execution_count": 5,
   "metadata": {},
   "outputs": [
    {
     "data": {
      "text/html": [
       "<div>\n",
       "<style scoped>\n",
       "    .dataframe tbody tr th:only-of-type {\n",
       "        vertical-align: middle;\n",
       "    }\n",
       "\n",
       "    .dataframe tbody tr th {\n",
       "        vertical-align: top;\n",
       "    }\n",
       "\n",
       "    .dataframe thead th {\n",
       "        text-align: right;\n",
       "    }\n",
       "</style>\n",
       "<table border=\"1\" class=\"dataframe\">\n",
       "  <thead>\n",
       "    <tr style=\"text-align: right;\">\n",
       "      <th></th>\n",
       "      <th>ipsrc</th>\n",
       "      <th>proto</th>\n",
       "      <th>time</th>\n",
       "      <th>count</th>\n",
       "      <th>count_n</th>\n",
       "    </tr>\n",
       "  </thead>\n",
       "  <tbody>\n",
       "    <tr>\n",
       "      <th>84</th>\n",
       "      <td>13.35.130.7</td>\n",
       "      <td>TCP</td>\n",
       "      <td>2019-03-08 12:08:20</td>\n",
       "      <td>5</td>\n",
       "      <td>0</td>\n",
       "    </tr>\n",
       "    <tr>\n",
       "      <th>85</th>\n",
       "      <td>13.35.130.7</td>\n",
       "      <td>TLSv1.2</td>\n",
       "      <td>2019-03-08 12:08:20</td>\n",
       "      <td>3</td>\n",
       "      <td>0</td>\n",
       "    </tr>\n",
       "    <tr>\n",
       "      <th>86</th>\n",
       "      <td>13.35.130.94</td>\n",
       "      <td>TCP</td>\n",
       "      <td>2019-03-08 12:07:10</td>\n",
       "      <td>7</td>\n",
       "      <td>0</td>\n",
       "    </tr>\n",
       "    <tr>\n",
       "      <th>87</th>\n",
       "      <td>13.35.130.94</td>\n",
       "      <td>TCP</td>\n",
       "      <td>2019-03-08 12:07:15</td>\n",
       "      <td>1</td>\n",
       "      <td>0</td>\n",
       "    </tr>\n",
       "    <tr>\n",
       "      <th>88</th>\n",
       "      <td>13.35.130.94</td>\n",
       "      <td>TCP</td>\n",
       "      <td>2019-03-08 12:07:20</td>\n",
       "      <td>0</td>\n",
       "      <td>0</td>\n",
       "    </tr>\n",
       "  </tbody>\n",
       "</table>\n",
       "</div>"
      ],
      "text/plain": [
       "           ipsrc    proto                time  count  count_n\n",
       "84   13.35.130.7      TCP 2019-03-08 12:08:20      5        0\n",
       "85   13.35.130.7  TLSv1.2 2019-03-08 12:08:20      3        0\n",
       "86  13.35.130.94      TCP 2019-03-08 12:07:10      7        0\n",
       "87  13.35.130.94      TCP 2019-03-08 12:07:15      1        0\n",
       "88  13.35.130.94      TCP 2019-03-08 12:07:20      0        0"
      ]
     },
     "execution_count": 5,
     "metadata": {},
     "output_type": "execute_result"
    }
   ],
   "source": [
    "#feature Scaling\n",
    "dataNorm = dataGroup2.copy()\n",
    "dataNorm['count_n'] = (dataGroup2['count'] - dataGroup2['count'].min()) / (dataGroup2['count'].max() - dataGroup2['count'].min())\n",
    "dataNorm.head(5)"
   ]
  },
  {
   "cell_type": "code",
   "execution_count": null,
   "metadata": {},
   "outputs": [],
   "source": []
  },
  {
   "cell_type": "code",
   "execution_count": 6,
   "metadata": {},
   "outputs": [
    {
     "data": {
      "image/png": "[encoded data removed]",
      "text/plain": [
       "<Figure size 576x432 with 1 Axes>"
      ]
     },
     "metadata": {
      "needs_background": "light"
     },
     "output_type": "display_data"
    }
   ],
   "source": [
    "%matplotlib inline\n",
    "\n",
    "from  matplotlib  import  pyplot  as  plt\n",
    "\n",
    "def  plot (): \n",
    "    plt . figure ( figsize = ( 8 , 6 ))\n",
    "\n",
    "    plt . scatter ( dataGroup2 [ 'count' ],  dataGroup2 [ 'count' ], \n",
    "            color = 'green' ,  label = 'input scale' ,  alpha = 0.5 )\n",
    "        \n",
    "    plt . scatter ( dataNorm [ 'count_n' ],  dataNorm [ 'count_n' ], \n",
    "            color = 'blue' ,  label = 'min-max scaled [min = 0, max = 1]' ,  alpha = 0.3 )\n",
    "    \n",
    "    plt . legend ( loc = 'upper left' ) \n",
    "    plt . grid ()\n",
    "\n",
    "    plt . tight_layout ()\n",
    "\n",
    "plot () \n",
    "plt . show ()"
   ]
  },
  {
   "cell_type": "markdown",
   "metadata": {},
   "source": []
  },
  {
   "cell_type": "markdown",
   "metadata": {},
   "source": [
    "## Normalization "
   ]
  },
  {
   "cell_type": "code",
   "execution_count": 7,
   "metadata": {},
   "outputs": [
    {
     "name": "stdout",
     "output_type": "stream",
     "text": [
      "[0.4970968242712956, 0.16439422534956233, 0.8297994231930289, -0.16830837357217093, -0.33465967303303756, -0.33465967303303756, -0.33465967303303756, -0.33465967303303756, -0.33465967303303756, -0.33465967303303756, -0.0019570741113043065, -0.33465967303303756, -0.33465967303303756, -0.16830837357217093, -0.33465967303303756, -0.16830837357217093, 0.9961507226538955, -0.33465967303303756, -0.33465967303303756, -0.33465967303303756, -0.33465967303303756, -0.33465967303303756, -0.33465967303303756, -0.33465967303303756, -0.33465967303303756, -0.33465967303303756, -0.33465967303303756, -0.33465967303303756, -0.33465967303303756, -0.33465967303303756, -0.0019570741113043065, -0.33465967303303756, -0.16830837357217093, -0.33465967303303756, -0.16830837357217093, -0.33465967303303756, -0.16830837357217093, -0.33465967303303756, -0.16830837357217093, 0.4970968242712956, -0.16830837357217093, -0.33465967303303756, -0.33465967303303756, -0.33465967303303756, -0.33465967303303756, -0.33465967303303756, -0.33465967303303756, -0.33465967303303756, -0.16830837357217093, -0.33465967303303756, -0.33465967303303756, -0.33465967303303756, -0.33465967303303756, 0.33074552481042896, -0.16830837357217093, 0.6634481237321622, -0.33465967303303756, 1.1625020221147622, -0.0019570741113043065, 0.33074552481042896, -0.0019570741113043065, -0.33465967303303756, -0.16830837357217093, 1.3288533215756289, -0.33465967303303756, -0.33465967303303756, 0.4970968242712956, 0.6634481237321622, -0.33465967303303756, -0.33465967303303756, 0.33074552481042896, -0.16830837357217093, 0.9961507226538955, -0.33465967303303756, 1.661555920497362, 0.16439422534956233, 2.160609818879962, 0.4970968242712956, 1.9942585194190954, 5.6539871075581605, -0.16830837357217093, -0.33465967303303756, -0.16830837357217093, -0.33465967303303756, -0.16830837357217093, -0.33465967303303756, -0.16830837357217093, -0.33465967303303756, -0.16830837357217093, -0.33465967303303756, -0.16830837357217093, -0.33465967303303756, -0.16830837357217093, -0.33465967303303756, -0.16830837357217093, -0.33465967303303756, -0.16830837357217093, -0.33465967303303756, -0.16830837357217093, -0.33465967303303756, -0.16830837357217093, -0.16830837357217093, 0.33074552481042896, -0.16830837357217093, 0.4970968242712956, -0.16830837357217093, 1.3288533215756289, 2.659663717262562, 0.33074552481042896, 1.3288533215756289, -0.33465967303303756, -0.16830837357217093, -0.33465967303303756, 0.4970968242712956, 0.33074552481042896, -0.33465967303303756, 0.16439422534956233, -0.33465967303303756, -0.16830837357217093, -0.33465967303303756, -0.16830837357217093, -0.16830837357217093, -0.33465967303303756, -0.0019570741113043065, -0.33465967303303756, -0.0019570741113043065, -0.0019570741113043065, -0.16830837357217093, -0.33465967303303756, -0.16830837357217093, -0.33465967303303756, -0.33465967303303756, -0.33465967303303756, -0.33465967303303756, -0.16830837357217093, -0.33465967303303756, -0.33465967303303756, -0.16830837357217093, -0.33465967303303756, -0.33465967303303756, -0.33465967303303756, -0.33465967303303756, -0.33465967303303756, -0.16830837357217093, -0.33465967303303756, -0.16830837357217093, -0.16830837357217093, -0.0019570741113043065, -0.33465967303303756, -0.0019570741113043065, -0.33465967303303756, -0.0019570741113043065, -0.0019570741113043065, -0.16830837357217093, -0.33465967303303756, -0.16830837357217093, -0.33465967303303756, -0.16830837357217093, -0.16830837357217093, -0.16830837357217093, -0.0019570741113043065, -0.16830837357217093, -0.33465967303303756, 0.16439422534956233, -0.16830837357217093, -0.33465967303303756, -0.33465967303303756, -0.33465967303303756, 0.4970968242712956, 0.16439422534956233, -0.16830837357217093, -0.33465967303303756, -0.0019570741113043065, -0.16830837357217093, -0.16830837357217093, -0.33465967303303756, -0.33465967303303756, -0.0019570741113043065, 0.4970968242712956, 0.16439422534956233, -0.16830837357217093, 1.3288533215756289, -0.33465967303303756, -0.33465967303303756, -0.33465967303303756, -0.33465967303303756, -0.33465967303303756, -0.33465967303303756, -0.33465967303303756, -0.33465967303303756, -0.33465967303303756, -0.33465967303303756, -0.33465967303303756, -0.33465967303303756, -0.33465967303303756, -0.33465967303303756, -0.33465967303303756, -0.33465967303303756, -0.33465967303303756, -0.33465967303303756, -0.33465967303303756, -0.33465967303303756, -0.33465967303303756, -0.33465967303303756, -0.33465967303303756, -0.33465967303303756, -0.33465967303303756, 0.16439422534956233, -0.33465967303303756, -0.33465967303303756, -0.33465967303303756, -0.33465967303303756, -0.33465967303303756, -0.33465967303303756, -0.33465967303303756, -0.33465967303303756, -0.33465967303303756, -0.33465967303303756, -0.33465967303303756, -0.33465967303303756, -0.33465967303303756, -0.33465967303303756, -0.33465967303303756, -0.33465967303303756, -0.33465967303303756, -0.33465967303303756, -0.33465967303303756, -0.33465967303303756, -0.33465967303303756, -0.33465967303303756, -0.33465967303303756, -0.33465967303303756, -0.33465967303303756, -0.33465967303303756, -0.33465967303303756, -0.33465967303303756, -0.33465967303303756, -0.33465967303303756, -0.33465967303303756, -0.33465967303303756, -0.33465967303303756, -0.33465967303303756, -0.33465967303303756, -0.33465967303303756, -0.33465967303303756, -0.33465967303303756, -0.33465967303303756, -0.33465967303303756, -0.33465967303303756, -0.33465967303303756, -0.33465967303303756, -0.33465967303303756, -0.33465967303303756, -0.33465967303303756, -0.33465967303303756, -0.33465967303303756, -0.33465967303303756, -0.33465967303303756, -0.33465967303303756, -0.33465967303303756, -0.33465967303303756, -0.33465967303303756, -0.33465967303303756, -0.16830837357217093, 0.4970968242712956, -0.33465967303303756, -0.33465967303303756, -0.33465967303303756, -0.33465967303303756, -0.33465967303303756, -0.33465967303303756, -0.33465967303303756, -0.33465967303303756, -0.33465967303303756, -0.33465967303303756, -0.33465967303303756, -0.33465967303303756, -0.33465967303303756, -0.33465967303303756, -0.33465967303303756, -0.33465967303303756, -0.33465967303303756, -0.33465967303303756, -0.33465967303303756, -0.33465967303303756, -0.33465967303303756, 0.4970968242712956, 0.33074552481042896, -0.33465967303303756, -0.33465967303303756, -0.33465967303303756, -0.33465967303303756, -0.33465967303303756, -0.33465967303303756, -0.33465967303303756, -0.33465967303303756, -0.33465967303303756, -0.33465967303303756, -0.33465967303303756, -0.33465967303303756, -0.33465967303303756, -0.33465967303303756, -0.33465967303303756, -0.33465967303303756, -0.33465967303303756, -0.33465967303303756, -0.33465967303303756, -0.33465967303303756, 0.9961507226538955, 1.4952046210364953, 0.16439422534956233, -0.0019570741113043065, -0.33465967303303756, -0.33465967303303756, -0.33465967303303756, -0.33465967303303756, -0.33465967303303756, -0.33465967303303756, -0.33465967303303756, -0.0019570741113043065, -0.33465967303303756, -0.33465967303303756, -0.33465967303303756, -0.33465967303303756, -0.33465967303303756, -0.33465967303303756, -0.33465967303303756, -0.33465967303303756, -0.33465967303303756, -0.33465967303303756, -0.33465967303303756, -0.33465967303303756, -0.33465967303303756, -0.33465967303303756, -0.0019570741113043065, -0.33465967303303756, -0.33465967303303756, -0.33465967303303756, -0.33465967303303756, -0.33465967303303756, -0.33465967303303756, -0.33465967303303756, -0.33465967303303756, -0.0019570741113043065, -0.33465967303303756, -0.33465967303303756, -0.33465967303303756, -0.33465967303303756, -0.33465967303303756, -0.33465967303303756, -0.33465967303303756, -0.33465967303303756, -0.33465967303303756, -0.33465967303303756, -0.33465967303303756, -0.33465967303303756, -0.33465967303303756, -0.33465967303303756, -0.33465967303303756, -0.33465967303303756, -0.33465967303303756, -0.33465967303303756, -0.33465967303303756, -0.33465967303303756, -0.33465967303303756, -0.33465967303303756, -0.33465967303303756, -0.33465967303303756, -0.33465967303303756, -0.33465967303303756, -0.33465967303303756, -0.33465967303303756, -0.33465967303303756, -0.33465967303303756, -0.33465967303303756, -0.33465967303303756, -0.33465967303303756, -0.33465967303303756, -0.33465967303303756, -0.33465967303303756, -0.33465967303303756, -0.33465967303303756, -0.33465967303303756, -0.33465967303303756, -0.33465967303303756, -0.33465967303303756, -0.33465967303303756, -0.33465967303303756, -0.33465967303303756, -0.33465967303303756, -0.33465967303303756, 1.3288533215756289, -0.33465967303303756, -0.0019570741113043065, -0.33465967303303756, -0.33465967303303756, -0.33465967303303756, -0.33465967303303756, -0.33465967303303756, -0.33465967303303756, -0.33465967303303756, -0.33465967303303756, -0.33465967303303756, -0.33465967303303756, -0.33465967303303756, -0.33465967303303756, -0.33465967303303756, -0.33465967303303756, -0.33465967303303756, -0.33465967303303756, -0.33465967303303756, -0.33465967303303756, -0.33465967303303756, -0.0019570741113043065, 0.33074552481042896, -0.33465967303303756, 0.33074552481042896, -0.33465967303303756, -0.33465967303303756, -0.33465967303303756, -0.33465967303303756, -0.33465967303303756, -0.33465967303303756, -0.33465967303303756, -0.33465967303303756, -0.33465967303303756, -0.33465967303303756, -0.33465967303303756, -0.33465967303303756, -0.33465967303303756, -0.33465967303303756, -0.33465967303303756, -0.33465967303303756, -0.33465967303303756, -0.33465967303303756, -0.33465967303303756, -0.33465967303303756, -0.33465967303303756, 0.33074552481042896, -0.33465967303303756, -0.33465967303303756, -0.33465967303303756, -0.33465967303303756, -0.33465967303303756, -0.33465967303303756, -0.33465967303303756, -0.33465967303303756, -0.33465967303303756, -0.33465967303303756, -0.33465967303303756, -0.33465967303303756, -0.33465967303303756, -0.33465967303303756, -0.33465967303303756, -0.33465967303303756, -0.33465967303303756, -0.33465967303303756, -0.33465967303303756, -0.33465967303303756, -0.33465967303303756, -0.33465967303303756, -0.33465967303303756, -0.33465967303303756, -0.33465967303303756, -0.33465967303303756, -0.33465967303303756, -0.33465967303303756, -0.33465967303303756, -0.33465967303303756, -0.33465967303303756, -0.33465967303303756, -0.33465967303303756, -0.33465967303303756, -0.33465967303303756, -0.33465967303303756, -0.33465967303303756, -0.33465967303303756, -0.33465967303303756, -0.33465967303303756, -0.33465967303303756, -0.33465967303303756, 0.33074552481042896, -0.0019570741113043065, 0.6634481237321622, -0.33465967303303756, -0.33465967303303756, -0.33465967303303756, -0.33465967303303756, -0.33465967303303756, -0.33465967303303756, -0.33465967303303756, -0.33465967303303756, -0.33465967303303756, -0.33465967303303756, -0.33465967303303756, -0.33465967303303756, -0.33465967303303756, -0.33465967303303756, -0.33465967303303756, -0.33465967303303756, -0.33465967303303756, -0.33465967303303756, -0.33465967303303756, -0.33465967303303756, -0.33465967303303756, -0.33465967303303756, -0.33465967303303756, -0.33465967303303756, -0.33465967303303756, -0.33465967303303756, -0.33465967303303756, -0.33465967303303756, -0.33465967303303756, -0.33465967303303756, -0.33465967303303756, -0.33465967303303756, -0.33465967303303756, -0.33465967303303756, -0.33465967303303756, -0.33465967303303756, -0.33465967303303756, -0.33465967303303756, -0.33465967303303756, -0.33465967303303756, -0.33465967303303756, -0.33465967303303756, -0.33465967303303756, -0.33465967303303756, -0.33465967303303756, -0.33465967303303756, -0.33465967303303756, -0.33465967303303756, -0.33465967303303756, -0.33465967303303756, -0.33465967303303756, -0.33465967303303756, -0.33465967303303756, -0.33465967303303756, -0.33465967303303756, -0.33465967303303756, -0.33465967303303756, -0.33465967303303756, -0.33465967303303756, -0.33465967303303756, -0.33465967303303756, -0.33465967303303756, -0.33465967303303756, -0.33465967303303756, -0.33465967303303756, -0.33465967303303756, -0.33465967303303756, -0.33465967303303756, -0.33465967303303756, -0.33465967303303756, -0.33465967303303756, -0.33465967303303756, -0.33465967303303756, -0.33465967303303756, -0.33465967303303756, -0.33465967303303756, -0.33465967303303756, -0.33465967303303756, -0.33465967303303756, -0.33465967303303756, -0.0019570741113043065, 0.33074552481042896, -0.16830837357217093, 0.16439422534956233, -0.33465967303303756, -0.33465967303303756, -0.33465967303303756, -0.33465967303303756, -0.33465967303303756, -0.33465967303303756, -0.33465967303303756, -0.33465967303303756, -0.33465967303303756, -0.33465967303303756, -0.33465967303303756, -0.33465967303303756, -0.33465967303303756, -0.33465967303303756, -0.33465967303303756, -0.33465967303303756, -0.33465967303303756, -0.33465967303303756, -0.33465967303303756, -0.33465967303303756, -0.33465967303303756, -0.33465967303303756, -0.16830837357217093, 0.4970968242712956, 0.6634481237321622, -0.33465967303303756, -0.33465967303303756, -0.33465967303303756, -0.33465967303303756, -0.33465967303303756, -0.33465967303303756, -0.33465967303303756, -0.33465967303303756, -0.33465967303303756, -0.33465967303303756, -0.33465967303303756, -0.33465967303303756, -0.33465967303303756, -0.33465967303303756, -0.33465967303303756, -0.33465967303303756, -0.33465967303303756, -0.33465967303303756, -0.33465967303303756, -0.33465967303303756, -0.33465967303303756, -0.33465967303303756, -0.33465967303303756, 0.33074552481042896, -0.33465967303303756, -0.33465967303303756, -0.33465967303303756, -0.33465967303303756, -0.33465967303303756, -0.33465967303303756, -0.33465967303303756, -0.33465967303303756, -0.33465967303303756, -0.33465967303303756, -0.33465967303303756, -0.33465967303303756, -0.33465967303303756, -0.33465967303303756, -0.33465967303303756, -0.33465967303303756, -0.33465967303303756, -0.33465967303303756, -0.33465967303303756, -0.33465967303303756, -0.33465967303303756, -0.33465967303303756, -0.33465967303303756, 0.33074552481042896, -0.33465967303303756, -0.33465967303303756, -0.33465967303303756, -0.33465967303303756, -0.33465967303303756, -0.33465967303303756, -0.33465967303303756, -0.33465967303303756, -0.33465967303303756, -0.33465967303303756, -0.33465967303303756, -0.33465967303303756, -0.33465967303303756, -0.33465967303303756, -0.33465967303303756, -0.33465967303303756, -0.33465967303303756, -0.33465967303303756, -0.33465967303303756, -0.33465967303303756, -0.33465967303303756, -0.33465967303303756, -0.33465967303303756, 0.33074552481042896, -0.33465967303303756, -0.33465967303303756, -0.33465967303303756, -0.33465967303303756, -0.33465967303303756, -0.33465967303303756, -0.33465967303303756, -0.33465967303303756, -0.33465967303303756, 0.4970968242712956, -0.33465967303303756, -0.33465967303303756, -0.33465967303303756, -0.33465967303303756, -0.33465967303303756, -0.33465967303303756, -0.33465967303303756, -0.33465967303303756, -0.33465967303303756, -0.33465967303303756, -0.33465967303303756, -0.33465967303303756, -0.33465967303303756, -0.33465967303303756, -0.33465967303303756, -0.33465967303303756, -0.33465967303303756, -0.33465967303303756, -0.33465967303303756, -0.33465967303303756, -0.33465967303303756, -0.33465967303303756, -0.33465967303303756, 0.33074552481042896, -0.33465967303303756, -0.33465967303303756, -0.33465967303303756, -0.33465967303303756, -0.33465967303303756, -0.33465967303303756, -0.33465967303303756, -0.33465967303303756, -0.33465967303303756, -0.33465967303303756, -0.33465967303303756, -0.33465967303303756, -0.33465967303303756, -0.33465967303303756, -0.33465967303303756, -0.33465967303303756, -0.33465967303303756, -0.33465967303303756, -0.33465967303303756, -0.33465967303303756, -0.33465967303303756, -0.33465967303303756, -0.33465967303303756, 0.33074552481042896, -0.33465967303303756, -0.33465967303303756, -0.33465967303303756, -0.33465967303303756, -0.33465967303303756, -0.33465967303303756, -0.33465967303303756, -0.33465967303303756, -0.33465967303303756, -0.33465967303303756, -0.33465967303303756, -0.33465967303303756, -0.33465967303303756, -0.33465967303303756, -0.33465967303303756, -0.33465967303303756, -0.33465967303303756, -0.33465967303303756, -0.33465967303303756, -0.33465967303303756, -0.33465967303303756, -0.33465967303303756, -0.33465967303303756, 0.33074552481042896, -0.33465967303303756, -0.33465967303303756, -0.33465967303303756, -0.33465967303303756, -0.33465967303303756, -0.33465967303303756, -0.33465967303303756, -0.33465967303303756, -0.33465967303303756, -0.33465967303303756, -0.33465967303303756, -0.33465967303303756, -0.33465967303303756, -0.33465967303303756, -0.33465967303303756, -0.33465967303303756, -0.33465967303303756, -0.33465967303303756, -0.33465967303303756, -0.33465967303303756, -0.33465967303303756, -0.33465967303303756, -0.33465967303303756, -0.0019570741113043065, -0.0019570741113043065, -0.33465967303303756, -0.33465967303303756, -0.33465967303303756, -0.33465967303303756, -0.33465967303303756, -0.33465967303303756, -0.33465967303303756, -0.0019570741113043065, -0.33465967303303756, -0.33465967303303756, -0.33465967303303756, -0.33465967303303756, -0.33465967303303756, -0.33465967303303756, -0.33465967303303756, -0.0019570741113043065, -0.33465967303303756, -0.33465967303303756, -0.33465967303303756, -0.33465967303303756, -0.33465967303303756, -0.33465967303303756, -0.33465967303303756, -0.33465967303303756, -0.33465967303303756, -0.33465967303303756, -0.33465967303303756, -0.33465967303303756, -0.33465967303303756, -0.33465967303303756, -0.0019570741113043065, -0.0019570741113043065, 0.33074552481042896, -0.33465967303303756, 1.3288533215756289, 1.3288533215756289, 0.33074552481042896, 2.3269611183408285, -0.0019570741113043065, -0.33465967303303756, 0.9961507226538955, 0.4970968242712956, 0.6634481237321622, 0.33074552481042896, 0.4970968242712956, 0.6634481237321622, 0.6634481237321622, 0.16439422534956233, 1.1625020221147622, 0.4970968242712956, 0.16439422534956233, 0.16439422534956233, -0.0019570741113043065, -0.0019570741113043065, -0.0019570741113043065, -0.0019570741113043065, -0.0019570741113043065, -0.0019570741113043065, -0.0019570741113043065, -0.33465967303303756, 0.16439422534956233, 0.16439422534956233, 0.16439422534956233, 0.16439422534956233, 0.16439422534956233, 0.16439422534956233, 0.16439422534956233, 0.16439422534956233, -0.16830837357217093, -0.16830837357217093, -0.0019570741113043065, 0.33074552481042896, 0.8297994231930289, 0.8297994231930289, 0.8297994231930289, 0.8297994231930289, 0.8297994231930289, 0.8297994231930289, 0.8297994231930289, 0.33074552481042896, 0.33074552481042896, 0.33074552481042896, 0.33074552481042896, 0.33074552481042896, -0.0019570741113043065, -0.0019570741113043065, 0.33074552481042896, 0.33074552481042896, 0.33074552481042896, 0.6634481237321622, 0.6634481237321622, 0.6634481237321622, 0.6634481237321622, 0.6634481237321622, -0.0019570741113043065, -0.0019570741113043065, -0.0019570741113043065, 0.33074552481042896, 0.33074552481042896, 0.33074552481042896, 0.33074552481042896, 0.33074552481042896, 0.33074552481042896, 0.33074552481042896, 0.33074552481042896, 1.3288533215756289, 1.3288533215756289, 1.661555920497362, 1.661555920497362, 1.3288533215756289, 1.3288533215756289, 1.3288533215756289, 1.3288533215756289, 0.9961507226538955, 0.9961507226538955, 0.9961507226538955, 0.9961507226538955, 0.9961507226538955, 0.9961507226538955, 0.9961507226538955, 0.9961507226538955, 0.9961507226538955, 1.3288533215756289, 1.8279072199582287, 1.8279072199582287, 1.8279072199582287, 1.8279072199582287, 1.8279072199582287, 1.8279072199582287, 1.8279072199582287, 1.8279072199582287, 2.3269611183408285, 2.3269611183408285, 2.3269611183408285, 2.3269611183408285, 2.3269611183408285, 2.3269611183408285, 2.3269611183408285, 1.9942585194190954, 0.6634481237321622, 0.6634481237321622, 0.6634481237321622, 0.6634481237321622, 0.6634481237321622, 0.6634481237321622, 0.6634481237321622, 0.6634481237321622, 0.6634481237321622, 0.6634481237321622, 0.6634481237321622, 0.6634481237321622, 0.6634481237321622, 0.6634481237321622, 0.33074552481042896, 0.33074552481042896, 0.33074552481042896, 0.33074552481042896, 0.33074552481042896, 0.33074552481042896, 0.33074552481042896, 0.33074552481042896, -0.33465967303303756, -0.33465967303303756, 0.16439422534956233, 0.4970968242712956, 0.4970968242712956, 0.4970968242712956, -0.16830837357217093, -0.33465967303303756, -0.0019570741113043065, -0.33465967303303756, -0.0019570741113043065, -0.0019570741113043065, -0.16830837357217093, -0.33465967303303756, -0.16830837357217093, -0.33465967303303756, 1.8279072199582287, -0.0019570741113043065, -0.33465967303303756, -0.0019570741113043065, -0.33465967303303756, -0.33465967303303756, -0.0019570741113043065, -0.33465967303303756, 1.4952046210364953, -0.16830837357217093, -0.33465967303303756, 0.4970968242712956, -0.0019570741113043065, 0.33074552481042896, 0.4970968242712956, 0.4970968242712956, 0.4970968242712956, 0.4970968242712956, 0.4970968242712956, 0.33074552481042896, 0.4970968242712956, 0.4970968242712956, 0.4970968242712956, 0.4970968242712956, 0.4970968242712956, 0.4970968242712956, 0.4970968242712956, 0.4970968242712956, 0.33074552481042896, 0.4970968242712956, 0.4970968242712956, 0.4970968242712956, 0.4970968242712956, 0.4970968242712956, 0.4970968242712956, 0.4970968242712956, -0.0019570741113043065, 0.16439422534956233, 0.4970968242712956, 0.4970968242712956, 0.4970968242712956, 0.4970968242712956, 0.33074552481042896, 0.4970968242712956, 0.4970968242712956, 0.4970968242712956, 0.4970968242712956, 0.4970968242712956, 0.4970968242712956, 0.4970968242712956, 0.33074552481042896, 0.4970968242712956, 0.4970968242712956, 0.4970968242712956, 0.4970968242712956, 0.4970968242712956, 0.4970968242712956, 0.4970968242712956, 0.4970968242712956, 0.33074552481042896, 0.4970968242712956, 0.4970968242712956, 0.4970968242712956, 0.4970968242712956, 0.4970968242712956, 0.4970968242712956, 0.4970968242712956, 0.4970968242712956, 0.33074552481042896, 0.4970968242712956, 0.4970968242712956, 0.4970968242712956, 0.4970968242712956, 0.4970968242712956, 0.4970968242712956, 0.4970968242712956, 0.33074552481042896, 0.4970968242712956, 0.4970968242712956, 0.4970968242712956, 0.4970968242712956, 0.4970968242712956, 0.4970968242712956, 0.4970968242712956, 0.4970968242712956, 0.33074552481042896, 0.4970968242712956, 0.4970968242712956, 0.4970968242712956, 0.4970968242712956, 0.4970968242712956, 0.4970968242712956, 0.9961507226538955, 0.4970968242712956, 0.33074552481042896, 0.4970968242712956, 1.4952046210364953, 0.4970968242712956, 0.4970968242712956, 0.4970968242712956, 1.3288533215756289, 0.4970968242712956, 0.33074552481042896, 0.4970968242712956, 0.4970968242712956, 0.6634481237321622, 0.4970968242712956, 0.4970968242712956, 0.4970968242712956, 0.4970968242712956, 0.4970968242712956, 0.33074552481042896, 0.4970968242712956, 0.4970968242712956, 0.4970968242712956, 0.4970968242712956, 0.4970968242712956, 0.4970968242712956, 0.4970968242712956, -0.0019570741113043065, 0.33074552481042896, 0.33074552481042896, 0.4970968242712956, 0.4970968242712956, 0.4970968242712956, 0.4970968242712956, 0.4970968242712956, 0.4970968242712956, 0.4970968242712956, 0.33074552481042896, 0.4970968242712956, 0.4970968242712956, 0.4970968242712956, 0.4970968242712956, 0.4970968242712956, 0.4970968242712956, 0.4970968242712956, 0.4970968242712956, 0.33074552481042896, 0.4970968242712956, 0.4970968242712956, 0.4970968242712956, 0.4970968242712956, 0.4970968242712956, 0.4970968242712956, 0.4970968242712956, 0.4970968242712956, 0.33074552481042896, 0.4970968242712956, 0.4970968242712956, 0.4970968242712956, 0.4970968242712956, 0.4970968242712956, 0.4970968242712956, 0.4970968242712956, 0.33074552481042896, 0.4970968242712956, 0.4970968242712956, 0.4970968242712956, 0.4970968242712956, 0.4970968242712956, 0.4970968242712956, 0.4970968242712956, 0.4970968242712956, 0.33074552481042896, 0.4970968242712956, 0.4970968242712956, 0.4970968242712956, 0.4970968242712956, 0.4970968242712956, 0.4970968242712956, 0.4970968242712956, 0.33074552481042896, 0.4970968242712956, 0.4970968242712956, 0.4970968242712956, 0.4970968242712956, 0.4970968242712956, 0.4970968242712956, 0.4970968242712956, 0.4970968242712956, 0.33074552481042896, 0.4970968242712956, 0.4970968242712956, 0.4970968242712956, 0.4970968242712956, 0.4970968242712956, 0.4970968242712956, 0.4970968242712956, 0.4970968242712956, 0.33074552481042896, 0.4970968242712956, 0.4970968242712956, 0.4970968242712956, 0.4970968242712956, 0.4970968242712956, 0.4970968242712956, 0.4970968242712956, 0.4970968242712956, 0.33074552481042896, 0.4970968242712956, 0.4970968242712956, 0.4970968242712956, 0.4970968242712956, 0.4970968242712956, 0.4970968242712956, 0.4970968242712956, 0.33074552481042896, 0.4970968242712956, 0.4970968242712956, 0.4970968242712956, 0.4970968242712956, 0.4970968242712956, 0.4970968242712956, 0.4970968242712956, 0.16439422534956233, -0.16830837357217093, -0.33465967303303756, -0.16830837357217093, -0.33465967303303756, -0.16830837357217093, -0.33465967303303756, -0.16830837357217093, -0.33465967303303756, -0.16830837357217093, -0.33465967303303756, -0.16830837357217093, -0.33465967303303756, -0.16830837357217093, -0.33465967303303756, -0.16830837357217093, -0.33465967303303756, -0.16830837357217093, -0.33465967303303756, -0.16830837357217093, -0.33465967303303756, -0.33465967303303756, -0.33465967303303756, -0.33465967303303756, -0.33465967303303756, -0.16830837357217093, -0.33465967303303756, -0.33465967303303756, -0.33465967303303756, -0.33465967303303756, -0.33465967303303756, -0.33465967303303756, -0.33465967303303756, -0.33465967303303756, -0.33465967303303756, -0.33465967303303756, -0.33465967303303756, -0.33465967303303756, -0.16830837357217093, -0.33465967303303756, -0.33465967303303756, -0.33465967303303756, -0.33465967303303756, -0.33465967303303756, -0.33465967303303756, -0.33465967303303756, -0.33465967303303756, -0.33465967303303756, -0.33465967303303756, -0.33465967303303756, -0.33465967303303756, -0.33465967303303756, -0.33465967303303756, -0.33465967303303756, -0.33465967303303756, -0.33465967303303756, -0.33465967303303756, -0.33465967303303756, -0.33465967303303756, -0.33465967303303756, -0.33465967303303756, -0.33465967303303756, -0.33465967303303756, -0.33465967303303756, -0.16830837357217093, -0.33465967303303756, -0.33465967303303756, -0.33465967303303756, -0.33465967303303756, -0.33465967303303756, -0.33465967303303756, -0.33465967303303756, -0.33465967303303756, -0.33465967303303756, -0.33465967303303756, -0.33465967303303756, -0.33465967303303756, -0.33465967303303756, -0.33465967303303756, -0.33465967303303756, -0.33465967303303756, -0.33465967303303756, -0.16830837357217093, -0.33465967303303756, -0.33465967303303756, -0.33465967303303756, -0.33465967303303756, -0.33465967303303756, -0.16830837357217093, -0.33465967303303756, -0.33465967303303756, -0.33465967303303756, -0.33465967303303756, -0.33465967303303756, -0.33465967303303756, -0.33465967303303756, -0.33465967303303756, -0.33465967303303756, -0.33465967303303756, -0.33465967303303756, -0.33465967303303756, -0.16830837357217093, -0.33465967303303756, -0.16830837357217093, -0.33465967303303756, -0.16830837357217093, 0.16439422534956233, 0.4970968242712956, 0.33074552481042896, -0.33465967303303756, 4.156825412410361, 2.8260150167234284, 1.1625020221147622, -0.33465967303303756, 0.9961507226538955, -0.33465967303303756, 11.14357998976676, 12.474390385453692, 1.8279072199582287, 6.818446203784227, 1.3288533215756289, 4.156825412410361, 2.8260150167234284, 7.65020270108856, 19.461144962810092, 12.973444283836292, 8.14925659947116, 15.302362476288426, 11.476282588688493, 0.6634481237321622, 2.160609818879962, 6.818446203784227, 2.8260150167234284, 1.9942585194190954, 0.6634481237321622, 1.4952046210364953, 5.3212845086364275, 0.8297994231930289, 2.3269611183408285, 1.661555920497362, 0.4970968242712956, 0.6634481237321622, 0.4970968242712956, 0.16439422534956233, -0.16830837357217093, -0.16830837357217093, -0.16830837357217093, -0.0019570741113043065, -0.16830837357217093, -0.33465967303303756, 1.4952046210364953, 0.8297994231930289, 0.16439422534956233, -0.33465967303303756, 0.16439422534956233, -0.33465967303303756, -0.0019570741113043065, 1.1625020221147622, -0.16830837357217093, 0.16439422534956233, -0.33465967303303756, 0.9961507226538955, -0.0019570741113043065, 0.6634481237321622, 5.154933209175561, 0.4970968242712956, -0.33465967303303756, 0.6634481237321622, -0.0019570741113043065, -0.33465967303303756, -0.33465967303303756, -0.33465967303303756, -0.33465967303303756, -0.33465967303303756, -0.33465967303303756, -0.33465967303303756, -0.0019570741113043065, -0.33465967303303756, -0.33465967303303756, -0.33465967303303756, -0.33465967303303756, -0.33465967303303756, -0.33465967303303756, -0.33465967303303756, -0.0019570741113043065, -0.33465967303303756, -0.33465967303303756, -0.33465967303303756, -0.33465967303303756, -0.33465967303303756, -0.33465967303303756, -0.33465967303303756, -0.33465967303303756, -0.33465967303303756, -0.33465967303303756, -0.33465967303303756, -0.33465967303303756, -0.33465967303303756, -0.33465967303303756, -0.0019570741113043065, -0.0019570741113043065, 0.33074552481042896, -0.33465967303303756, 1.3288533215756289, 1.3288533215756289, 0.33074552481042896, 2.3269611183408285, -0.0019570741113043065, -0.33465967303303756, 0.9961507226538955, -0.33465967303303756, -0.0019570741113043065, 0.16439422534956233, -0.16830837357217093, -0.33465967303303756, -0.33465967303303756, 1.661555920497362, 0.6634481237321622, -0.33465967303303756, 0.33074552481042896, 0.9961507226538955, -0.16830837357217093, -0.0019570741113043065, -0.33465967303303756, -0.33465967303303756, -0.16830837357217093, 0.16439422534956233, -0.16830837357217093, 0.33074552481042896, 0.4970968242712956, 0.4970968242712956, 0.4970968242712956, 0.4970968242712956, 0.4970968242712956, 0.33074552481042896, 0.4970968242712956, 0.4970968242712956, 0.4970968242712956, 0.4970968242712956, 0.4970968242712956, 0.4970968242712956, 0.4970968242712956, 0.4970968242712956, 0.33074552481042896, 0.4970968242712956, 0.4970968242712956, 0.4970968242712956, 0.4970968242712956, 0.4970968242712956, 0.4970968242712956, 0.4970968242712956, -0.0019570741113043065, 0.16439422534956233, 0.4970968242712956, 0.4970968242712956, 0.4970968242712956, 0.4970968242712956, 0.33074552481042896, 0.4970968242712956, 0.4970968242712956, 0.4970968242712956, 0.4970968242712956, 0.4970968242712956, 0.4970968242712956, 0.4970968242712956, 0.33074552481042896, 0.4970968242712956, 0.4970968242712956, 0.4970968242712956, 0.4970968242712956, 0.4970968242712956, 0.4970968242712956, 0.4970968242712956, 0.4970968242712956, 0.33074552481042896, 0.4970968242712956, 0.4970968242712956, 0.4970968242712956, 0.4970968242712956, 0.4970968242712956, 0.4970968242712956, 0.4970968242712956, 0.4970968242712956, 0.33074552481042896, 0.4970968242712956, 0.4970968242712956, 0.4970968242712956, 0.4970968242712956, 0.4970968242712956, 0.4970968242712956, 0.4970968242712956, 0.33074552481042896, 0.4970968242712956, 0.4970968242712956, 0.4970968242712956, 0.4970968242712956, 0.4970968242712956, 0.4970968242712956, 0.4970968242712956, 0.4970968242712956, 0.33074552481042896, 0.4970968242712956, 0.4970968242712956, 0.4970968242712956, 0.4970968242712956, 0.4970968242712956, 0.4970968242712956, 0.4970968242712956, 0.4970968242712956, 0.33074552481042896, 0.4970968242712956, 0.4970968242712956, 0.4970968242712956, 0.4970968242712956, 0.4970968242712956, 0.4970968242712956, 0.4970968242712956, 0.33074552481042896, 0.4970968242712956, 0.4970968242712956, 0.4970968242712956, 0.4970968242712956, 0.4970968242712956, 0.4970968242712956, 0.4970968242712956, 0.4970968242712956, 0.33074552481042896, 0.4970968242712956, 0.4970968242712956, 0.4970968242712956, 0.4970968242712956, 0.4970968242712956, 0.4970968242712956, 0.4970968242712956, -0.0019570741113043065, 0.33074552481042896, 0.33074552481042896, 0.4970968242712956, 0.4970968242712956, 0.4970968242712956, 0.4970968242712956, 0.4970968242712956, 0.4970968242712956, 0.4970968242712956, 0.33074552481042896, 0.4970968242712956, 0.4970968242712956, 0.4970968242712956, 0.4970968242712956, 0.4970968242712956, 0.4970968242712956, 0.4970968242712956, 0.4970968242712956, 0.33074552481042896, 0.4970968242712956, 0.4970968242712956, 0.4970968242712956, 0.4970968242712956, 0.4970968242712956, 0.4970968242712956, 0.4970968242712956, 0.4970968242712956, 0.33074552481042896, 0.4970968242712956, 0.4970968242712956, 0.4970968242712956, 0.4970968242712956, 0.4970968242712956, 0.4970968242712956, 0.4970968242712956, 0.33074552481042896, 0.4970968242712956, 0.4970968242712956, 0.4970968242712956, 0.4970968242712956, 0.4970968242712956, 0.4970968242712956, 0.4970968242712956, 0.4970968242712956, 0.33074552481042896, 0.4970968242712956, 0.4970968242712956, 0.4970968242712956, 0.4970968242712956, 0.4970968242712956, 0.4970968242712956, 0.4970968242712956, 0.33074552481042896, 0.4970968242712956, 0.4970968242712956, 0.4970968242712956, 0.4970968242712956, 0.4970968242712956, 0.4970968242712956, 0.4970968242712956, 0.4970968242712956, 0.33074552481042896, 0.4970968242712956, 0.4970968242712956, 0.4970968242712956, 0.4970968242712956, 0.4970968242712956, 0.4970968242712956, 0.4970968242712956, 0.4970968242712956, 0.33074552481042896, 0.4970968242712956, 0.4970968242712956, 0.4970968242712956, 0.4970968242712956, 0.4970968242712956, 0.4970968242712956, 0.4970968242712956, 0.4970968242712956, 0.33074552481042896, 0.4970968242712956, 0.4970968242712956, 0.4970968242712956, 0.4970968242712956, 0.4970968242712956, 0.4970968242712956, 0.4970968242712956, 0.33074552481042896, 0.4970968242712956, 0.4970968242712956, 0.4970968242712956, 0.4970968242712956, 0.4970968242712956, 0.4970968242712956, 0.4970968242712956, 0.16439422534956233, -0.16830837357217093, -0.33465967303303756, -0.33465967303303756, -0.33465967303303756, -0.33465967303303756, -0.33465967303303756, -0.33465967303303756, -0.33465967303303756, -0.33465967303303756, -0.33465967303303756, -0.33465967303303756, -0.33465967303303756, -0.33465967303303756, -0.33465967303303756, -0.33465967303303756, -0.33465967303303756, -0.33465967303303756, -0.33465967303303756, -0.33465967303303756, -0.33465967303303756, -0.33465967303303756, -0.33465967303303756, -0.33465967303303756, -0.33465967303303756, -0.33465967303303756, -0.33465967303303756, -0.33465967303303756, -0.33465967303303756, -0.33465967303303756, -0.33465967303303756, -0.33465967303303756, -0.33465967303303756, -0.33465967303303756, -0.33465967303303756, -0.33465967303303756, -0.33465967303303756, -0.33465967303303756, -0.33465967303303756, -0.33465967303303756, -0.33465967303303756, -0.33465967303303756, -0.33465967303303756, -0.33465967303303756, -0.33465967303303756, -0.33465967303303756, -0.33465967303303756, -0.33465967303303756, -0.33465967303303756, -0.33465967303303756, -0.33465967303303756, -0.33465967303303756, -0.33465967303303756, -0.33465967303303756, -0.33465967303303756, -0.33465967303303756, -0.33465967303303756, -0.33465967303303756, -0.33465967303303756, -0.33465967303303756, -0.33465967303303756, -0.33465967303303756, -0.33465967303303756, -0.33465967303303756, -0.33465967303303756, -0.33465967303303756, -0.33465967303303756, -0.33465967303303756, -0.33465967303303756, -0.33465967303303756, -0.33465967303303756, -0.33465967303303756, -0.33465967303303756, -0.33465967303303756, -0.33465967303303756, -0.33465967303303756, -0.33465967303303756, -0.33465967303303756, -0.33465967303303756, -0.33465967303303756, -0.33465967303303756, -0.33465967303303756, -0.33465967303303756, -0.33465967303303756, -0.16830837357217093, -0.33465967303303756, -0.33465967303303756, -0.33465967303303756, -0.33465967303303756, -0.33465967303303756, -0.33465967303303756, -0.33465967303303756, -0.33465967303303756, -0.33465967303303756, -0.33465967303303756, -0.33465967303303756, -0.33465967303303756, -0.33465967303303756, -0.33465967303303756, -0.33465967303303756, -0.33465967303303756, -0.33465967303303756, -0.33465967303303756, -0.33465967303303756, -0.33465967303303756, -0.16830837357217093, 0.16439422534956233, 0.16439422534956233, -0.0019570741113043065, 0.16439422534956233, -0.33465967303303756, -0.33465967303303756, -0.33465967303303756, -0.16830837357217093, -0.33465967303303756, -0.16830837357217093, -0.33465967303303756, 0.16439422534956233, -0.16830837357217093, -0.33465967303303756, -0.33465967303303756, -0.33465967303303756, -0.16830837357217093, -0.33465967303303756, -0.33465967303303756, -0.33465967303303756, -0.16830837357217093, 6.65209490432336, 2.493312417801695, -0.33465967303303756, 1.3288533215756289, -0.0019570741113043065, 0.16439422534956233, 0.33074552481042896, 0.16439422534956233, 7.982905300010294, 8.481959198392893, 6.319392305401627, 12.640741684914559, 11.309931289227626, -0.0019570741113043065, 1.4952046210364953, 5.820338407019027, 2.493312417801695, 2.659663717262562, 0.6634481237321622, 2.3269611183408285, 5.986689706479894, 0.33074552481042896, 2.160609818879962, 1.4952046210364953, 1.8279072199582287, 0.4970968242712956, 0.33074552481042896, -0.0019570741113043065, -0.33465967303303756, -0.33465967303303756, 0.6634481237321622, -0.16830837357217093, -0.0019570741113043065, -0.16830837357217093, -0.33465967303303756, -0.33465967303303756, -0.33465967303303756, -0.16830837357217093, -0.33465967303303756, -0.33465967303303756, -0.16830837357217093, 0.9961507226538955, 2.8260150167234284, -0.0019570741113043065, 0.9961507226538955, -0.33465967303303756, -0.16830837357217093, -0.0019570741113043065, 0.16439422534956233, 0.16439422534956233, 1.4952046210364953, 0.16439422534956233, 0.16439422534956233, -0.16830837357217093, -0.33465967303303756, -0.33465967303303756, -0.33465967303303756, -0.33465967303303756, -0.33465967303303756, -0.16830837357217093, -0.33465967303303756, -0.33465967303303756, -0.33465967303303756, -0.33465967303303756, -0.33465967303303756, -0.33465967303303756, -0.33465967303303756, -0.33465967303303756, -0.33465967303303756, -0.33465967303303756, -0.33465967303303756, -0.33465967303303756, -0.16830837357217093, -0.33465967303303756, -0.33465967303303756, -0.33465967303303756, -0.33465967303303756, -0.33465967303303756, -0.33465967303303756, -0.33465967303303756, -0.33465967303303756, -0.33465967303303756, -0.33465967303303756, -0.33465967303303756, -0.33465967303303756, -0.33465967303303756, -0.33465967303303756, -0.33465967303303756, -0.33465967303303756, -0.33465967303303756, -0.33465967303303756, -0.33465967303303756, -0.33465967303303756, -0.33465967303303756, -0.33465967303303756, -0.33465967303303756, -0.33465967303303756, -0.33465967303303756, -0.33465967303303756, -0.33465967303303756, -0.33465967303303756, -0.33465967303303756, -0.33465967303303756, -0.16830837357217093, 0.4970968242712956, 0.16439422534956233, -0.16830837357217093, -0.16830837357217093, -0.33465967303303756, -0.16830837357217093, -0.0019570741113043065, -0.0019570741113043065, 0.4970968242712956, -0.16830837357217093, -0.16830837357217093, 0.16439422534956233, -0.16830837357217093, 0.16439422534956233, -0.0019570741113043065, 0.16439422534956233, -0.16830837357217093, -0.16830837357217093, -0.16830837357217093, 1.3288533215756289, 0.33074552481042896, -0.0019570741113043065, 0.33074552481042896, 0.16439422534956233, -0.16830837357217093, -0.16830837357217093, -0.33465967303303756, -0.33465967303303756, -0.33465967303303756, -0.33465967303303756, -0.33465967303303756, -0.33465967303303756, -0.33465967303303756, -0.16830837357217093, -0.33465967303303756, -0.16830837357217093, -0.33465967303303756, -0.33465967303303756, -0.16830837357217093, -0.33465967303303756, -0.33465967303303756, -0.33465967303303756, -0.16830837357217093, -0.33465967303303756, -0.33465967303303756, -0.33465967303303756, -0.33465967303303756, -0.16830837357217093, -0.33465967303303756, -0.33465967303303756, -0.33465967303303756, -0.33465967303303756, -0.16830837357217093, -0.33465967303303756, -0.33465967303303756, -0.33465967303303756, -0.16830837357217093, -0.33465967303303756, -0.33465967303303756, -0.33465967303303756, -0.33465967303303756, -0.16830837357217093, -0.33465967303303756, -0.33465967303303756, -0.33465967303303756, -0.16830837357217093, -0.33465967303303756, -0.33465967303303756, -0.33465967303303756, -0.33465967303303756, -0.16830837357217093, -0.33465967303303756, -0.33465967303303756, -0.33465967303303756, -0.16830837357217093, -0.33465967303303756, -0.33465967303303756, -0.33465967303303756, -0.33465967303303756, -0.16830837357217093, -0.33465967303303756, -0.33465967303303756, -0.33465967303303756, -0.16830837357217093, -0.33465967303303756, -0.33465967303303756, -0.33465967303303756, -0.33465967303303756, -0.16830837357217093, -0.33465967303303756, -0.33465967303303756, -0.33465967303303756, -0.33465967303303756, -0.33465967303303756, -0.33465967303303756, -0.16830837357217093, -0.33465967303303756, -0.33465967303303756, -0.33465967303303756, -0.33465967303303756, -0.33465967303303756, -0.33465967303303756, -0.33465967303303756, -0.33465967303303756, -0.33465967303303756, -0.33465967303303756, -0.33465967303303756, -0.33465967303303756, -0.33465967303303756, -0.33465967303303756, -0.33465967303303756, -0.33465967303303756, -0.33465967303303756, -0.33465967303303756, -0.33465967303303756, -0.33465967303303756, -0.33465967303303756, -0.33465967303303756, -0.33465967303303756, -0.33465967303303756, -0.33465967303303756, -0.33465967303303756, -0.33465967303303756, -0.33465967303303756, -0.33465967303303756, -0.33465967303303756, -0.33465967303303756, -0.33465967303303756, -0.33465967303303756, -0.33465967303303756, -0.33465967303303756, -0.16830837357217093, -0.33465967303303756, -0.33465967303303756, -0.33465967303303756, -0.33465967303303756, -0.33465967303303756, -0.33465967303303756, -0.33465967303303756, -0.16830837357217093, -0.33465967303303756, -0.33465967303303756, -0.33465967303303756, -0.33465967303303756, -0.33465967303303756, -0.33465967303303756, -0.16830837357217093, -0.33465967303303756, -0.33465967303303756, -0.33465967303303756, -0.33465967303303756, -0.33465967303303756, -0.33465967303303756, -0.33465967303303756, -0.33465967303303756, -0.16830837357217093, -0.16830837357217093, -0.33465967303303756, -0.33465967303303756, -0.33465967303303756, -0.33465967303303756, -0.33465967303303756, -0.33465967303303756, -0.33465967303303756, -0.33465967303303756, -0.33465967303303756, -0.16830837357217093, -0.33465967303303756, -0.33465967303303756, -0.33465967303303756, -0.33465967303303756, -0.33465967303303756, -0.33465967303303756, -0.33465967303303756, -0.33465967303303756, -0.33465967303303756, -0.16830837357217093, -0.33465967303303756, -0.33465967303303756, -0.33465967303303756, -0.33465967303303756, -0.33465967303303756, -0.33465967303303756, -0.33465967303303756, -0.33465967303303756, -0.33465967303303756, -0.16830837357217093, -0.33465967303303756, -0.33465967303303756, -0.33465967303303756, -0.33465967303303756, -0.33465967303303756, -0.33465967303303756, -0.33465967303303756, -0.33465967303303756, -0.16830837357217093, -0.33465967303303756, -0.33465967303303756, -0.33465967303303756, -0.33465967303303756, -0.33465967303303756, -0.33465967303303756, -0.33465967303303756, -0.33465967303303756, -0.33465967303303756, -0.16830837357217093, -0.33465967303303756, -0.33465967303303756, -0.33465967303303756, -0.33465967303303756, -0.33465967303303756, -0.33465967303303756, -0.33465967303303756, -0.33465967303303756, -0.33465967303303756, -0.0019570741113043065, -0.33465967303303756, -0.33465967303303756, -0.33465967303303756, -0.33465967303303756, -0.33465967303303756, -0.33465967303303756, -0.33465967303303756, -0.33465967303303756, -0.16830837357217093, -0.16830837357217093, -0.16830837357217093, -0.33465967303303756, -0.33465967303303756, -0.33465967303303756, -0.33465967303303756, -0.33465967303303756, -0.33465967303303756, -0.33465967303303756, -0.16830837357217093, -0.33465967303303756, -0.16830837357217093, -0.33465967303303756, -0.33465967303303756, -0.16830837357217093, -0.33465967303303756, -0.33465967303303756, -0.33465967303303756, -0.16830837357217093, -0.33465967303303756, -0.33465967303303756, -0.33465967303303756, -0.33465967303303756, -0.16830837357217093, -0.33465967303303756, -0.33465967303303756, -0.33465967303303756, -0.33465967303303756, -0.16830837357217093, -0.33465967303303756, -0.33465967303303756, -0.33465967303303756, -0.16830837357217093, -0.33465967303303756, -0.33465967303303756, -0.33465967303303756, -0.33465967303303756, -0.16830837357217093, -0.33465967303303756, -0.33465967303303756, -0.33465967303303756, -0.16830837357217093, -0.33465967303303756, -0.33465967303303756, -0.33465967303303756, -0.33465967303303756, -0.16830837357217093, -0.33465967303303756, -0.33465967303303756, -0.33465967303303756, -0.16830837357217093, -0.33465967303303756, -0.33465967303303756, -0.33465967303303756, -0.33465967303303756, -0.16830837357217093, -0.33465967303303756, -0.33465967303303756, -0.33465967303303756, -0.16830837357217093, -0.33465967303303756, -0.33465967303303756, -0.33465967303303756, -0.33465967303303756, -0.16830837357217093, -0.33465967303303756, -0.33465967303303756, -0.33465967303303756, -0.33465967303303756, -0.33465967303303756, -0.33465967303303756, -0.16830837357217093, -0.33465967303303756, -0.33465967303303756, -0.33465967303303756, -0.33465967303303756, -0.33465967303303756, -0.33465967303303756, -0.33465967303303756, -0.33465967303303756, -0.33465967303303756, -0.33465967303303756, -0.33465967303303756, -0.33465967303303756, -0.33465967303303756, -0.33465967303303756, -0.33465967303303756, -0.33465967303303756, -0.33465967303303756, -0.33465967303303756, -0.33465967303303756, -0.33465967303303756, -0.33465967303303756, -0.33465967303303756, -0.33465967303303756, -0.33465967303303756, -0.33465967303303756, -0.33465967303303756, -0.33465967303303756, -0.33465967303303756, -0.33465967303303756, -0.33465967303303756, -0.33465967303303756, -0.33465967303303756, -0.33465967303303756, -0.33465967303303756, -0.33465967303303756, -0.16830837357217093, -0.33465967303303756, -0.33465967303303756, -0.33465967303303756, -0.33465967303303756, -0.33465967303303756, -0.33465967303303756, -0.33465967303303756, -0.16830837357217093, -0.33465967303303756, -0.33465967303303756, -0.33465967303303756, -0.33465967303303756, -0.33465967303303756, -0.33465967303303756, -0.16830837357217093, -0.33465967303303756, -0.33465967303303756, -0.33465967303303756, -0.33465967303303756, -0.33465967303303756, -0.33465967303303756, -0.33465967303303756, -0.33465967303303756, -0.16830837357217093, -0.16830837357217093, -0.33465967303303756, -0.33465967303303756, -0.33465967303303756, -0.33465967303303756, -0.33465967303303756, -0.33465967303303756, -0.33465967303303756, -0.33465967303303756, -0.33465967303303756, -0.16830837357217093, -0.33465967303303756, -0.33465967303303756, -0.33465967303303756, -0.33465967303303756, -0.33465967303303756, -0.33465967303303756, -0.33465967303303756, -0.33465967303303756, -0.33465967303303756, -0.16830837357217093, -0.33465967303303756, -0.33465967303303756, -0.33465967303303756, -0.33465967303303756, -0.33465967303303756, -0.33465967303303756, -0.33465967303303756, -0.33465967303303756, -0.33465967303303756, -0.16830837357217093, -0.33465967303303756, -0.33465967303303756, -0.33465967303303756, -0.33465967303303756, -0.33465967303303756, -0.33465967303303756, -0.33465967303303756, -0.33465967303303756, -0.16830837357217093, -0.33465967303303756, -0.33465967303303756, -0.33465967303303756, -0.33465967303303756, -0.33465967303303756, -0.33465967303303756, -0.33465967303303756, -0.33465967303303756, -0.33465967303303756, -0.16830837357217093, -0.33465967303303756, -0.33465967303303756, -0.33465967303303756, -0.33465967303303756, -0.33465967303303756, -0.33465967303303756, -0.33465967303303756, -0.33465967303303756, -0.33465967303303756, -0.0019570741113043065, -0.33465967303303756, -0.33465967303303756, -0.33465967303303756, -0.33465967303303756, -0.33465967303303756, -0.33465967303303756, -0.33465967303303756, -0.33465967303303756, -0.16830837357217093, -0.0019570741113043065, -0.33465967303303756, -0.33465967303303756, -0.33465967303303756, -0.33465967303303756, -0.33465967303303756, -0.33465967303303756, -0.33465967303303756, -0.33465967303303756, -0.33465967303303756, -0.33465967303303756, -0.33465967303303756, -0.33465967303303756, -0.33465967303303756, -0.33465967303303756, -0.33465967303303756, -0.33465967303303756, -0.33465967303303756, -0.33465967303303756, -0.33465967303303756, -0.33465967303303756, -0.33465967303303756, -0.33465967303303756, -0.33465967303303756, -0.33465967303303756, -0.33465967303303756, -0.33465967303303756, -0.33465967303303756, -0.33465967303303756, -0.33465967303303756, -0.33465967303303756, -0.33465967303303756, -0.33465967303303756, -0.33465967303303756, -0.33465967303303756, -0.33465967303303756, -0.33465967303303756, -0.33465967303303756, -0.33465967303303756, -0.33465967303303756, -0.33465967303303756, -0.33465967303303756, -0.33465967303303756, -0.33465967303303756, -0.33465967303303756, -0.33465967303303756, -0.33465967303303756, -0.33465967303303756, -0.33465967303303756, -0.33465967303303756, -0.33465967303303756, -0.33465967303303756, -0.33465967303303756, -0.33465967303303756, -0.33465967303303756, -0.33465967303303756, -0.33465967303303756, -0.33465967303303756, -0.33465967303303756, -0.33465967303303756, -0.33465967303303756, -0.33465967303303756, -0.33465967303303756, -0.33465967303303756, -0.33465967303303756, -0.33465967303303756, -0.33465967303303756, -0.33465967303303756, -0.33465967303303756, -0.33465967303303756, -0.33465967303303756, -0.33465967303303756, -0.33465967303303756, -0.33465967303303756, -0.33465967303303756, -0.33465967303303756, -0.33465967303303756, -0.33465967303303756, -0.33465967303303756, -0.33465967303303756, -0.33465967303303756, -0.33465967303303756, -0.33465967303303756, -0.0019570741113043065, 1.3288533215756289, -0.33465967303303756, -0.33465967303303756, -0.33465967303303756, -0.33465967303303756, -0.33465967303303756, -0.33465967303303756, -0.33465967303303756, -0.33465967303303756, -0.33465967303303756, -0.33465967303303756, -0.33465967303303756, -0.33465967303303756, -0.33465967303303756, -0.33465967303303756, -0.33465967303303756, -0.33465967303303756, -0.33465967303303756, -0.33465967303303756, -0.33465967303303756, -0.33465967303303756, -0.33465967303303756, -0.33465967303303756, -0.33465967303303756, -0.33465967303303756, -0.33465967303303756, 0.16439422534956233, -0.33465967303303756, -0.33465967303303756, -0.33465967303303756, -0.33465967303303756, -0.33465967303303756, -0.33465967303303756, -0.33465967303303756, -0.33465967303303756, -0.33465967303303756, -0.33465967303303756, -0.33465967303303756, -0.33465967303303756, -0.33465967303303756, -0.33465967303303756, -0.33465967303303756, -0.33465967303303756, -0.33465967303303756, -0.33465967303303756, -0.33465967303303756, -0.33465967303303756, -0.33465967303303756, -0.33465967303303756, -0.33465967303303756, -0.33465967303303756, -0.33465967303303756, -0.33465967303303756, -0.33465967303303756, -0.33465967303303756, -0.33465967303303756, -0.33465967303303756, -0.33465967303303756, -0.33465967303303756, -0.33465967303303756, -0.33465967303303756, -0.33465967303303756, -0.33465967303303756, -0.33465967303303756, -0.33465967303303756, -0.33465967303303756, -0.33465967303303756, -0.33465967303303756, -0.33465967303303756, -0.33465967303303756, -0.33465967303303756, -0.33465967303303756, -0.33465967303303756, -0.33465967303303756, -0.33465967303303756, -0.33465967303303756, -0.33465967303303756, -0.33465967303303756, -0.33465967303303756, -0.33465967303303756, -0.33465967303303756, -0.33465967303303756, -0.16830837357217093, -0.0019570741113043065, -0.33465967303303756, -0.33465967303303756, -0.33465967303303756, -0.33465967303303756, -0.33465967303303756, -0.33465967303303756, -0.33465967303303756, -0.33465967303303756, -0.33465967303303756, -0.33465967303303756, -0.33465967303303756, -0.33465967303303756, -0.33465967303303756, -0.33465967303303756, -0.33465967303303756, -0.33465967303303756, -0.33465967303303756, -0.33465967303303756, -0.33465967303303756, -0.33465967303303756, -0.33465967303303756, 0.4970968242712956, 0.33074552481042896, -0.33465967303303756, -0.33465967303303756, -0.33465967303303756, -0.33465967303303756, -0.33465967303303756, -0.33465967303303756, -0.33465967303303756, -0.33465967303303756, -0.33465967303303756, -0.33465967303303756, -0.33465967303303756, -0.33465967303303756, -0.33465967303303756, -0.33465967303303756, -0.33465967303303756, -0.33465967303303756, -0.33465967303303756, -0.33465967303303756, -0.33465967303303756, -0.33465967303303756, 0.9961507226538955, 1.4952046210364953, 0.16439422534956233, -0.0019570741113043065, -0.33465967303303756, -0.33465967303303756, -0.33465967303303756, -0.33465967303303756, -0.33465967303303756, -0.33465967303303756, -0.33465967303303756, -0.0019570741113043065, -0.33465967303303756, -0.33465967303303756, -0.33465967303303756, -0.33465967303303756, -0.33465967303303756, -0.33465967303303756, -0.33465967303303756, -0.33465967303303756, -0.33465967303303756, -0.33465967303303756, -0.33465967303303756, -0.33465967303303756, -0.33465967303303756, -0.33465967303303756, -0.0019570741113043065, -0.33465967303303756, -0.33465967303303756, -0.33465967303303756, -0.33465967303303756, -0.33465967303303756, -0.33465967303303756, -0.33465967303303756, -0.33465967303303756, -0.0019570741113043065, -0.33465967303303756, -0.33465967303303756, -0.33465967303303756, -0.33465967303303756, -0.33465967303303756, -0.33465967303303756, -0.33465967303303756, -0.33465967303303756, -0.33465967303303756, -0.33465967303303756, -0.33465967303303756, -0.33465967303303756, -0.33465967303303756, -0.33465967303303756, -0.33465967303303756, -0.33465967303303756, -0.33465967303303756, -0.33465967303303756, -0.33465967303303756, -0.33465967303303756, -0.33465967303303756, -0.33465967303303756, -0.33465967303303756, -0.33465967303303756, -0.33465967303303756, -0.33465967303303756, -0.33465967303303756, -0.33465967303303756, -0.33465967303303756, -0.33465967303303756, -0.33465967303303756, -0.33465967303303756, -0.33465967303303756, -0.33465967303303756, -0.33465967303303756, -0.33465967303303756, -0.33465967303303756, -0.33465967303303756, -0.33465967303303756, -0.33465967303303756, -0.33465967303303756, -0.33465967303303756, -0.33465967303303756, -0.33465967303303756, -0.33465967303303756, -0.33465967303303756, -0.33465967303303756, 1.3288533215756289, -0.33465967303303756, -0.0019570741113043065, -0.33465967303303756, -0.33465967303303756, -0.33465967303303756, -0.33465967303303756, -0.33465967303303756, -0.33465967303303756, -0.33465967303303756, -0.33465967303303756, -0.33465967303303756, -0.33465967303303756, -0.33465967303303756, -0.33465967303303756, -0.33465967303303756, -0.33465967303303756, -0.33465967303303756, -0.33465967303303756, -0.33465967303303756, -0.33465967303303756, -0.33465967303303756, -0.0019570741113043065, 0.33074552481042896, -0.33465967303303756, 0.33074552481042896, -0.33465967303303756, -0.33465967303303756, -0.33465967303303756, -0.33465967303303756, -0.33465967303303756, -0.33465967303303756, -0.33465967303303756, -0.33465967303303756, -0.33465967303303756, -0.33465967303303756, -0.33465967303303756, -0.33465967303303756, -0.33465967303303756, -0.33465967303303756, -0.33465967303303756, -0.33465967303303756, -0.33465967303303756, -0.33465967303303756, -0.33465967303303756, -0.33465967303303756, -0.33465967303303756, 0.33074552481042896, -0.33465967303303756, -0.33465967303303756, -0.33465967303303756, -0.33465967303303756, -0.33465967303303756, -0.33465967303303756, -0.33465967303303756, -0.33465967303303756, -0.33465967303303756, -0.33465967303303756, -0.33465967303303756, -0.33465967303303756, -0.33465967303303756, -0.33465967303303756, -0.33465967303303756, -0.33465967303303756, -0.33465967303303756, -0.33465967303303756, -0.33465967303303756, -0.33465967303303756, -0.33465967303303756, -0.33465967303303756, -0.33465967303303756, -0.33465967303303756, -0.33465967303303756, -0.33465967303303756, -0.33465967303303756, -0.33465967303303756, -0.33465967303303756, -0.33465967303303756, -0.33465967303303756, -0.33465967303303756, -0.33465967303303756, -0.33465967303303756, -0.33465967303303756, -0.33465967303303756, -0.33465967303303756, -0.33465967303303756, -0.33465967303303756, -0.33465967303303756, -0.33465967303303756, -0.33465967303303756, 0.33074552481042896, -0.0019570741113043065, 0.6634481237321622, -0.33465967303303756, -0.33465967303303756, -0.33465967303303756, -0.33465967303303756, -0.33465967303303756, -0.33465967303303756, -0.33465967303303756, -0.33465967303303756, -0.33465967303303756, -0.33465967303303756, -0.33465967303303756, -0.33465967303303756, -0.33465967303303756, -0.33465967303303756, -0.33465967303303756, -0.33465967303303756, -0.33465967303303756, -0.33465967303303756, -0.33465967303303756, -0.33465967303303756, -0.33465967303303756, -0.33465967303303756, -0.33465967303303756, -0.33465967303303756, -0.33465967303303756, -0.33465967303303756, -0.33465967303303756, -0.33465967303303756, -0.33465967303303756, -0.33465967303303756, -0.33465967303303756, -0.33465967303303756, -0.33465967303303756, -0.33465967303303756, -0.33465967303303756, -0.33465967303303756, -0.33465967303303756, -0.33465967303303756, -0.33465967303303756, -0.33465967303303756, -0.33465967303303756, -0.33465967303303756, -0.33465967303303756, -0.33465967303303756, -0.33465967303303756, -0.33465967303303756, -0.33465967303303756, -0.33465967303303756, -0.33465967303303756, -0.33465967303303756, -0.33465967303303756, -0.33465967303303756, -0.33465967303303756, -0.33465967303303756, -0.33465967303303756, -0.33465967303303756, -0.33465967303303756, -0.33465967303303756, -0.33465967303303756, -0.33465967303303756, -0.33465967303303756, -0.33465967303303756, -0.33465967303303756, -0.33465967303303756, -0.33465967303303756, -0.33465967303303756, -0.33465967303303756, -0.33465967303303756, -0.33465967303303756, -0.33465967303303756, -0.33465967303303756, -0.33465967303303756, -0.33465967303303756, -0.33465967303303756, -0.33465967303303756, -0.33465967303303756, -0.33465967303303756, -0.33465967303303756, -0.33465967303303756, -0.33465967303303756, -0.0019570741113043065, 0.33074552481042896]\n"
     ]
    },
    {
     "name": "stdout",
     "output_type": "stream",
     "text": [
      "[0.04201680672268908, 0.025210084033613446, 0.058823529411764705, 0.008403361344537815, 0.0, 0.0, 0.0, 0.0, 0.0, 0.0, 0.01680672268907563, 0.0, 0.0, 0.008403361344537815, 0.0, 0.008403361344537815, 0.06722689075630252, 0.0, 0.0, 0.0, 0.0, 0.0, 0.0, 0.0, 0.0, 0.0, 0.0, 0.0, 0.0, 0.0, 0.01680672268907563, 0.0, 0.008403361344537815, 0.0, 0.008403361344537815, 0.0, 0.008403361344537815, 0.0, 0.008403361344537815, 0.04201680672268908, 0.008403361344537815, 0.0, 0.0, 0.0, 0.0, 0.0, 0.0, 0.0, 0.008403361344537815, 0.0, 0.0, 0.0, 0.0, 0.03361344537815126, 0.008403361344537815, 0.05042016806722689, 0.0, 0.07563025210084033, 0.01680672268907563, 0.03361344537815126, 0.01680672268907563, 0.0, 0.008403361344537815, 0.08403361344537816, 0.0, 0.0, 0.04201680672268908, 0.05042016806722689, 0.0, 0.0, 0.03361344537815126, 0.008403361344537815, 0.06722689075630252, 0.0, 0.10084033613445378, 0.025210084033613446, 0.12605042016806722, 0.04201680672268908, 0.11764705882352941, 0.3025210084033613, 0.008403361344537815, 0.0, 0.008403361344537815, 0.0, 0.008403361344537815, 0.0, 0.008403361344537815, 0.0, 0.008403361344537815, 0.0, 0.008403361344537815, 0.0, 0.008403361344537815, 0.0, 0.008403361344537815, 0.0, 0.008403361344537815, 0.0, 0.008403361344537815, 0.0, 0.008403361344537815, 0.008403361344537815, 0.03361344537815126, 0.008403361344537815, 0.04201680672268908, 0.008403361344537815, 0.08403361344537816, 0.15126050420168066, 0.03361344537815126, 0.08403361344537816, 0.0, 0.008403361344537815, 0.0, 0.04201680672268908, 0.03361344537815126, 0.0, 0.025210084033613446, 0.0, 0.008403361344537815, 0.0, 0.008403361344537815, 0.008403361344537815, 0.0, 0.01680672268907563, 0.0, 0.01680672268907563, 0.01680672268907563, 0.008403361344537815, 0.0, 0.008403361344537815, 0.0, 0.0, 0.0, 0.0, 0.008403361344537815, 0.0, 0.0, 0.008403361344537815, 0.0, 0.0, 0.0, 0.0, 0.0, 0.008403361344537815, 0.0, 0.008403361344537815, 0.008403361344537815, 0.01680672268907563, 0.0, 0.01680672268907563, 0.0, 0.01680672268907563, 0.01680672268907563, 0.008403361344537815, 0.0, 0.008403361344537815, 0.0, 0.008403361344537815, 0.008403361344537815, 0.008403361344537815, 0.01680672268907563, 0.008403361344537815, 0.0, 0.025210084033613446, 0.008403361344537815, 0.0, 0.0, 0.0, 0.04201680672268908, 0.025210084033613446, 0.008403361344537815, 0.0, 0.01680672268907563, 0.008403361344537815, 0.008403361344537815, 0.0, 0.0, 0.01680672268907563, 0.04201680672268908, 0.025210084033613446, 0.008403361344537815, 0.08403361344537816, 0.0, 0.0, 0.0, 0.0, 0.0, 0.0, 0.0, 0.0, 0.0, 0.0, 0.0, 0.0, 0.0, 0.0, 0.0, 0.0, 0.0, 0.0, 0.0, 0.0, 0.0, 0.0, 0.0, 0.0, 0.0, 0.025210084033613446, 0.0, 0.0, 0.0, 0.0, 0.0, 0.0, 0.0, 0.0, 0.0, 0.0, 0.0, 0.0, 0.0, 0.0, 0.0, 0.0, 0.0, 0.0, 0.0, 0.0, 0.0, 0.0, 0.0, 0.0, 0.0, 0.0, 0.0, 0.0, 0.0, 0.0, 0.0, 0.0, 0.0, 0.0, 0.0, 0.0, 0.0, 0.0, 0.0, 0.0, 0.0, 0.0, 0.0, 0.0, 0.0, 0.0, 0.0, 0.0, 0.0, 0.0, 0.0, 0.0, 0.0, 0.0, 0.0, 0.008403361344537815, 0.04201680672268908, 0.0, 0.0, 0.0, 0.0, 0.0, 0.0, 0.0, 0.0, 0.0, 0.0, 0.0, 0.0, 0.0, 0.0, 0.0, 0.0, 0.0, 0.0, 0.0, 0.0, 0.0, 0.04201680672268908, 0.03361344537815126, 0.0, 0.0, 0.0, 0.0, 0.0, 0.0, 0.0, 0.0, 0.0, 0.0, 0.0, 0.0, 0.0, 0.0, 0.0, 0.0, 0.0, 0.0, 0.0, 0.0, 0.06722689075630252, 0.09243697478991597, 0.025210084033613446, 0.01680672268907563, 0.0, 0.0, 0.0, 0.0, 0.0, 0.0, 0.0, 0.01680672268907563, 0.0, 0.0, 0.0, 0.0, 0.0, 0.0, 0.0, 0.0, 0.0, 0.0, 0.0, 0.0, 0.0, 0.0, 0.01680672268907563, 0.0, 0.0, 0.0, 0.0, 0.0, 0.0, 0.0, 0.0, 0.01680672268907563, 0.0, 0.0, 0.0, 0.0, 0.0, 0.0, 0.0, 0.0, 0.0, 0.0, 0.0, 0.0, 0.0, 0.0, 0.0, 0.0, 0.0, 0.0, 0.0, 0.0, 0.0, 0.0, 0.0, 0.0, 0.0, 0.0, 0.0, 0.0, 0.0, 0.0, 0.0, 0.0, 0.0, 0.0, 0.0, 0.0, 0.0, 0.0, 0.0, 0.0, 0.0, 0.0, 0.0, 0.0, 0.0, 0.0, 0.0, 0.08403361344537816, 0.0, 0.01680672268907563, 0.0, 0.0, 0.0, 0.0, 0.0, 0.0, 0.0, 0.0, 0.0, 0.0, 0.0, 0.0, 0.0, 0.0, 0.0, 0.0, 0.0, 0.0, 0.0, 0.01680672268907563, 0.03361344537815126, 0.0, 0.03361344537815126, 0.0, 0.0, 0.0, 0.0, 0.0, 0.0, 0.0, 0.0, 0.0, 0.0, 0.0, 0.0, 0.0, 0.0, 0.0, 0.0, 0.0, 0.0, 0.0, 0.0, 0.0, 0.03361344537815126, 0.0, 0.0, 0.0, 0.0, 0.0, 0.0, 0.0, 0.0, 0.0, 0.0, 0.0, 0.0, 0.0, 0.0, 0.0, 0.0, 0.0, 0.0, 0.0, 0.0, 0.0, 0.0, 0.0, 0.0, 0.0, 0.0, 0.0, 0.0, 0.0, 0.0, 0.0, 0.0, 0.0, 0.0, 0.0, 0.0, 0.0, 0.0, 0.0, 0.0, 0.0, 0.0, 0.03361344537815126, 0.01680672268907563, 0.05042016806722689, 0.0, 0.0, 0.0, 0.0, 0.0, 0.0, 0.0, 0.0, 0.0, 0.0, 0.0, 0.0, 0.0, 0.0, 0.0, 0.0, 0.0, 0.0, 0.0, 0.0, 0.0, 0.0, 0.0, 0.0, 0.0, 0.0, 0.0, 0.0, 0.0, 0.0, 0.0, 0.0, 0.0, 0.0, 0.0, 0.0, 0.0, 0.0, 0.0, 0.0, 0.0, 0.0, 0.0, 0.0, 0.0, 0.0, 0.0, 0.0, 0.0, 0.0, 0.0, 0.0, 0.0, 0.0, 0.0, 0.0, 0.0, 0.0, 0.0, 0.0, 0.0, 0.0, 0.0, 0.0, 0.0, 0.0, 0.0, 0.0, 0.0, 0.0, 0.0, 0.0, 0.0, 0.0, 0.0, 0.0, 0.0, 0.0, 0.0, 0.0, 0.01680672268907563, 0.03361344537815126, 0.008403361344537815, 0.025210084033613446, 0.0, 0.0, 0.0, 0.0, 0.0, 0.0, 0.0, 0.0, 0.0, 0.0, 0.0, 0.0, 0.0, 0.0, 0.0, 0.0, 0.0, 0.0, 0.0, 0.0, 0.0, 0.0, 0.008403361344537815, 0.04201680672268908, 0.05042016806722689, 0.0, 0.0, 0.0, 0.0, 0.0, 0.0, 0.0, 0.0, 0.0, 0.0, 0.0, 0.0, 0.0, 0.0, 0.0, 0.0, 0.0, 0.0, 0.0, 0.0, 0.0, 0.0, 0.0, 0.03361344537815126, 0.0, 0.0, 0.0, 0.0, 0.0, 0.0, 0.0, 0.0, 0.0, 0.0, 0.0, 0.0, 0.0, 0.0, 0.0, 0.0, 0.0, 0.0, 0.0, 0.0, 0.0, 0.0, 0.0, 0.03361344537815126, 0.0, 0.0, 0.0, 0.0, 0.0, 0.0, 0.0, 0.0, 0.0, 0.0, 0.0, 0.0, 0.0, 0.0, 0.0, 0.0, 0.0, 0.0, 0.0, 0.0, 0.0, 0.0, 0.0, 0.03361344537815126, 0.0, 0.0, 0.0, 0.0, 0.0, 0.0, 0.0, 0.0, 0.0, 0.04201680672268908, 0.0, 0.0, 0.0, 0.0, 0.0, 0.0, 0.0, 0.0, 0.0, 0.0, 0.0, 0.0, 0.0, 0.0, 0.0, 0.0, 0.0, 0.0, 0.0, 0.0, 0.0, 0.0, 0.0, 0.03361344537815126, 0.0, 0.0, 0.0, 0.0, 0.0, 0.0, 0.0, 0.0, 0.0, 0.0, 0.0, 0.0, 0.0, 0.0, 0.0, 0.0, 0.0, 0.0, 0.0, 0.0, 0.0, 0.0, 0.0, 0.03361344537815126, 0.0, 0.0, 0.0, 0.0, 0.0, 0.0, 0.0, 0.0, 0.0, 0.0, 0.0, 0.0, 0.0, 0.0, 0.0, 0.0, 0.0, 0.0, 0.0, 0.0, 0.0, 0.0, 0.0, 0.03361344537815126, 0.0, 0.0, 0.0, 0.0, 0.0, 0.0, 0.0, 0.0, 0.0, 0.0, 0.0, 0.0, 0.0, 0.0, 0.0, 0.0, 0.0, 0.0, 0.0, 0.0, 0.0, 0.0, 0.0, 0.01680672268907563, 0.01680672268907563, 0.0, 0.0, 0.0, 0.0, 0.0, 0.0, 0.0, 0.01680672268907563, 0.0, 0.0, 0.0, 0.0, 0.0, 0.0, 0.0, 0.01680672268907563, 0.0, 0.0, 0.0, 0.0, 0.0, 0.0, 0.0, 0.0, 0.0, 0.0, 0.0, 0.0, 0.0, 0.0, 0.01680672268907563, 0.01680672268907563, 0.03361344537815126, 0.0, 0.08403361344537816, 0.08403361344537816, 0.03361344537815126, 0.13445378151260504, 0.01680672268907563, 0.0, 0.06722689075630252, 0.04201680672268908, 0.05042016806722689, 0.03361344537815126, 0.04201680672268908, 0.05042016806722689, 0.05042016806722689, 0.025210084033613446, 0.07563025210084033, 0.04201680672268908, 0.025210084033613446, 0.025210084033613446, 0.01680672268907563, 0.01680672268907563, 0.01680672268907563, 0.01680672268907563, 0.01680672268907563, 0.01680672268907563, 0.01680672268907563, 0.0, 0.025210084033613446, 0.025210084033613446, 0.025210084033613446, 0.025210084033613446, 0.025210084033613446, 0.025210084033613446, 0.025210084033613446, 0.025210084033613446, 0.008403361344537815, 0.008403361344537815, 0.01680672268907563, 0.03361344537815126, 0.058823529411764705, 0.058823529411764705, 0.058823529411764705, 0.058823529411764705, 0.058823529411764705, 0.058823529411764705, 0.058823529411764705, 0.03361344537815126, 0.03361344537815126, 0.03361344537815126, 0.03361344537815126, 0.03361344537815126, 0.01680672268907563, 0.01680672268907563, 0.03361344537815126, 0.03361344537815126, 0.03361344537815126, 0.05042016806722689, 0.05042016806722689, 0.05042016806722689, 0.05042016806722689, 0.05042016806722689, 0.01680672268907563, 0.01680672268907563, 0.01680672268907563, 0.03361344537815126, 0.03361344537815126, 0.03361344537815126, 0.03361344537815126, 0.03361344537815126, 0.03361344537815126, 0.03361344537815126, 0.03361344537815126, 0.08403361344537816, 0.08403361344537816, 0.10084033613445378, 0.10084033613445378, 0.08403361344537816, 0.08403361344537816, 0.08403361344537816, 0.08403361344537816, 0.06722689075630252, 0.06722689075630252, 0.06722689075630252, 0.06722689075630252, 0.06722689075630252, 0.06722689075630252, 0.06722689075630252, 0.06722689075630252, 0.06722689075630252, 0.08403361344537816, 0.1092436974789916, 0.1092436974789916, 0.1092436974789916, 0.1092436974789916, 0.1092436974789916, 0.1092436974789916, 0.1092436974789916, 0.1092436974789916, 0.13445378151260504, 0.13445378151260504, 0.13445378151260504, 0.13445378151260504, 0.13445378151260504, 0.13445378151260504, 0.13445378151260504, 0.11764705882352941, 0.05042016806722689, 0.05042016806722689, 0.05042016806722689, 0.05042016806722689, 0.05042016806722689, 0.05042016806722689, 0.05042016806722689, 0.05042016806722689, 0.05042016806722689, 0.05042016806722689, 0.05042016806722689, 0.05042016806722689, 0.05042016806722689, 0.05042016806722689, 0.03361344537815126, 0.03361344537815126, 0.03361344537815126, 0.03361344537815126, 0.03361344537815126, 0.03361344537815126, 0.03361344537815126, 0.03361344537815126, 0.0, 0.0, 0.025210084033613446, 0.04201680672268908, 0.04201680672268908, 0.04201680672268908, 0.008403361344537815, 0.0, 0.01680672268907563, 0.0, 0.01680672268907563, 0.01680672268907563, 0.008403361344537815, 0.0, 0.008403361344537815, 0.0, 0.1092436974789916, 0.01680672268907563, 0.0, 0.01680672268907563, 0.0, 0.0, 0.01680672268907563, 0.0, 0.09243697478991597, 0.008403361344537815, 0.0, 0.04201680672268908, 0.01680672268907563, 0.03361344537815126, 0.04201680672268908, 0.04201680672268908, 0.04201680672268908, 0.04201680672268908, 0.04201680672268908, 0.03361344537815126, 0.04201680672268908, 0.04201680672268908, 0.04201680672268908, 0.04201680672268908, 0.04201680672268908, 0.04201680672268908, 0.04201680672268908, 0.04201680672268908, 0.03361344537815126, 0.04201680672268908, 0.04201680672268908, 0.04201680672268908, 0.04201680672268908, 0.04201680672268908, 0.04201680672268908, 0.04201680672268908, 0.01680672268907563, 0.025210084033613446, 0.04201680672268908, 0.04201680672268908, 0.04201680672268908, 0.04201680672268908, 0.03361344537815126, 0.04201680672268908, 0.04201680672268908, 0.04201680672268908, 0.04201680672268908, 0.04201680672268908, 0.04201680672268908, 0.04201680672268908, 0.03361344537815126, 0.04201680672268908, 0.04201680672268908, 0.04201680672268908, 0.04201680672268908, 0.04201680672268908, 0.04201680672268908, 0.04201680672268908, 0.04201680672268908, 0.03361344537815126, 0.04201680672268908, 0.04201680672268908, 0.04201680672268908, 0.04201680672268908, 0.04201680672268908, 0.04201680672268908, 0.04201680672268908, 0.04201680672268908, 0.03361344537815126, 0.04201680672268908, 0.04201680672268908, 0.04201680672268908, 0.04201680672268908, 0.04201680672268908, 0.04201680672268908, 0.04201680672268908, 0.03361344537815126, 0.04201680672268908, 0.04201680672268908, 0.04201680672268908, 0.04201680672268908, 0.04201680672268908, 0.04201680672268908, 0.04201680672268908, 0.04201680672268908, 0.03361344537815126, 0.04201680672268908, 0.04201680672268908, 0.04201680672268908, 0.04201680672268908, 0.04201680672268908, 0.04201680672268908, 0.06722689075630252, 0.04201680672268908, 0.03361344537815126, 0.04201680672268908, 0.09243697478991597, 0.04201680672268908, 0.04201680672268908, 0.04201680672268908, 0.08403361344537816, 0.04201680672268908, 0.03361344537815126, 0.04201680672268908, 0.04201680672268908, 0.05042016806722689, 0.04201680672268908, 0.04201680672268908, 0.04201680672268908, 0.04201680672268908, 0.04201680672268908, 0.03361344537815126, 0.04201680672268908, 0.04201680672268908, 0.04201680672268908, 0.04201680672268908, 0.04201680672268908, 0.04201680672268908, 0.04201680672268908, 0.01680672268907563, 0.03361344537815126, 0.03361344537815126, 0.04201680672268908, 0.04201680672268908, 0.04201680672268908, 0.04201680672268908, 0.04201680672268908, 0.04201680672268908, 0.04201680672268908, 0.03361344537815126, 0.04201680672268908, 0.04201680672268908, 0.04201680672268908, 0.04201680672268908, 0.04201680672268908, 0.04201680672268908, 0.04201680672268908, 0.04201680672268908, 0.03361344537815126, 0.04201680672268908, 0.04201680672268908, 0.04201680672268908, 0.04201680672268908, 0.04201680672268908, 0.04201680672268908, 0.04201680672268908, 0.04201680672268908, 0.03361344537815126, 0.04201680672268908, 0.04201680672268908, 0.04201680672268908, 0.04201680672268908, 0.04201680672268908, 0.04201680672268908, 0.04201680672268908, 0.03361344537815126, 0.04201680672268908, 0.04201680672268908, 0.04201680672268908, 0.04201680672268908, 0.04201680672268908, 0.04201680672268908, 0.04201680672268908, 0.04201680672268908, 0.03361344537815126, 0.04201680672268908, 0.04201680672268908, 0.04201680672268908, 0.04201680672268908, 0.04201680672268908, 0.04201680672268908, 0.04201680672268908, 0.03361344537815126, 0.04201680672268908, 0.04201680672268908, 0.04201680672268908, 0.04201680672268908, 0.04201680672268908, 0.04201680672268908, 0.04201680672268908, 0.04201680672268908, 0.03361344537815126, 0.04201680672268908, 0.04201680672268908, 0.04201680672268908, 0.04201680672268908, 0.04201680672268908, 0.04201680672268908, 0.04201680672268908, 0.04201680672268908, 0.03361344537815126, 0.04201680672268908, 0.04201680672268908, 0.04201680672268908, 0.04201680672268908, 0.04201680672268908, 0.04201680672268908, 0.04201680672268908, 0.04201680672268908, 0.03361344537815126, 0.04201680672268908, 0.04201680672268908, 0.04201680672268908, 0.04201680672268908, 0.04201680672268908, 0.04201680672268908, 0.04201680672268908, 0.03361344537815126, 0.04201680672268908, 0.04201680672268908, 0.04201680672268908, 0.04201680672268908, 0.04201680672268908, 0.04201680672268908, 0.04201680672268908, 0.025210084033613446, 0.008403361344537815, 0.0, 0.008403361344537815, 0.0, 0.008403361344537815, 0.0, 0.008403361344537815, 0.0, 0.008403361344537815, 0.0, 0.008403361344537815, 0.0, 0.008403361344537815, 0.0, 0.008403361344537815, 0.0, 0.008403361344537815, 0.0, 0.008403361344537815, 0.0, 0.0, 0.0, 0.0, 0.0, 0.008403361344537815, 0.0, 0.0, 0.0, 0.0, 0.0, 0.0, 0.0, 0.0, 0.0, 0.0, 0.0, 0.0, 0.008403361344537815, 0.0, 0.0, 0.0, 0.0, 0.0, 0.0, 0.0, 0.0, 0.0, 0.0, 0.0, 0.0, 0.0, 0.0, 0.0, 0.0, 0.0, 0.0, 0.0, 0.0, 0.0, 0.0, 0.0, 0.0, 0.0, 0.008403361344537815, 0.0, 0.0, 0.0, 0.0, 0.0, 0.0, 0.0, 0.0, 0.0, 0.0, 0.0, 0.0, 0.0, 0.0, 0.0, 0.0, 0.0, 0.008403361344537815, 0.0, 0.0, 0.0, 0.0, 0.0, 0.008403361344537815, 0.0, 0.0, 0.0, 0.0, 0.0, 0.0, 0.0, 0.0, 0.0, 0.0, 0.0, 0.0, 0.008403361344537815, 0.0, 0.008403361344537815, 0.0, 0.008403361344537815, 0.025210084033613446, 0.04201680672268908, 0.03361344537815126, 0.0, 0.226890756302521, 0.15966386554621848, 0.07563025210084033, 0.0, 0.06722689075630252, 0.0, 0.5798319327731093, 0.6470588235294118, 0.1092436974789916, 0.36134453781512604, 0.08403361344537816, 0.226890756302521, 0.15966386554621848, 0.40336134453781514, 1.0, 0.6722689075630253, 0.42857142857142855, 0.7899159663865546, 0.5966386554621849, 0.05042016806722689, 0.12605042016806722, 0.36134453781512604, 0.15966386554621848, 0.11764705882352941, 0.05042016806722689, 0.09243697478991597, 0.2857142857142857, 0.058823529411764705, 0.13445378151260504, 0.10084033613445378, 0.04201680672268908, 0.05042016806722689, 0.04201680672268908, 0.025210084033613446, 0.008403361344537815, 0.008403361344537815, 0.008403361344537815, 0.01680672268907563, 0.008403361344537815, 0.0, 0.09243697478991597, 0.058823529411764705, 0.025210084033613446, 0.0, 0.025210084033613446, 0.0, 0.01680672268907563, 0.07563025210084033, 0.008403361344537815, 0.025210084033613446, 0.0, 0.06722689075630252, 0.01680672268907563, 0.05042016806722689, 0.2773109243697479, 0.04201680672268908, 0.0, 0.05042016806722689, 0.01680672268907563, 0.0, 0.0, 0.0, 0.0, 0.0, 0.0, 0.0, 0.01680672268907563, 0.0, 0.0, 0.0, 0.0, 0.0, 0.0, 0.0, 0.01680672268907563, 0.0, 0.0, 0.0, 0.0, 0.0, 0.0, 0.0, 0.0, 0.0, 0.0, 0.0, 0.0, 0.0, 0.0, 0.01680672268907563, 0.01680672268907563, 0.03361344537815126, 0.0, 0.08403361344537816, 0.08403361344537816, 0.03361344537815126, 0.13445378151260504, 0.01680672268907563, 0.0, 0.06722689075630252, 0.0, 0.01680672268907563, 0.025210084033613446, 0.008403361344537815, 0.0, 0.0, 0.10084033613445378, 0.05042016806722689, 0.0, 0.03361344537815126, 0.06722689075630252, 0.008403361344537815, 0.01680672268907563, 0.0, 0.0, 0.008403361344537815, 0.025210084033613446, 0.008403361344537815, 0.03361344537815126, 0.04201680672268908, 0.04201680672268908, 0.04201680672268908, 0.04201680672268908, 0.04201680672268908, 0.03361344537815126, 0.04201680672268908, 0.04201680672268908, 0.04201680672268908, 0.04201680672268908, 0.04201680672268908, 0.04201680672268908, 0.04201680672268908, 0.04201680672268908, 0.03361344537815126, 0.04201680672268908, 0.04201680672268908, 0.04201680672268908, 0.04201680672268908, 0.04201680672268908, 0.04201680672268908, 0.04201680672268908, 0.01680672268907563, 0.025210084033613446, 0.04201680672268908, 0.04201680672268908, 0.04201680672268908, 0.04201680672268908, 0.03361344537815126, 0.04201680672268908, 0.04201680672268908, 0.04201680672268908, 0.04201680672268908, 0.04201680672268908, 0.04201680672268908, 0.04201680672268908, 0.03361344537815126, 0.04201680672268908, 0.04201680672268908, 0.04201680672268908, 0.04201680672268908, 0.04201680672268908, 0.04201680672268908, 0.04201680672268908, 0.04201680672268908, 0.03361344537815126, 0.04201680672268908, 0.04201680672268908, 0.04201680672268908, 0.04201680672268908, 0.04201680672268908, 0.04201680672268908, 0.04201680672268908, 0.04201680672268908, 0.03361344537815126, 0.04201680672268908, 0.04201680672268908, 0.04201680672268908, 0.04201680672268908, 0.04201680672268908, 0.04201680672268908, 0.04201680672268908, 0.03361344537815126, 0.04201680672268908, 0.04201680672268908, 0.04201680672268908, 0.04201680672268908, 0.04201680672268908, 0.04201680672268908, 0.04201680672268908, 0.04201680672268908, 0.03361344537815126, 0.04201680672268908, 0.04201680672268908, 0.04201680672268908, 0.04201680672268908, 0.04201680672268908, 0.04201680672268908, 0.04201680672268908, 0.04201680672268908, 0.03361344537815126, 0.04201680672268908, 0.04201680672268908, 0.04201680672268908, 0.04201680672268908, 0.04201680672268908, 0.04201680672268908, 0.04201680672268908, 0.03361344537815126, 0.04201680672268908, 0.04201680672268908, 0.04201680672268908, 0.04201680672268908, 0.04201680672268908, 0.04201680672268908, 0.04201680672268908, 0.04201680672268908, 0.03361344537815126, 0.04201680672268908, 0.04201680672268908, 0.04201680672268908, 0.04201680672268908, 0.04201680672268908, 0.04201680672268908, 0.04201680672268908, 0.01680672268907563, 0.03361344537815126, 0.03361344537815126, 0.04201680672268908, 0.04201680672268908, 0.04201680672268908, 0.04201680672268908, 0.04201680672268908, 0.04201680672268908, 0.04201680672268908, 0.03361344537815126, 0.04201680672268908, 0.04201680672268908, 0.04201680672268908, 0.04201680672268908, 0.04201680672268908, 0.04201680672268908, 0.04201680672268908, 0.04201680672268908, 0.03361344537815126, 0.04201680672268908, 0.04201680672268908, 0.04201680672268908, 0.04201680672268908, 0.04201680672268908, 0.04201680672268908, 0.04201680672268908, 0.04201680672268908, 0.03361344537815126, 0.04201680672268908, 0.04201680672268908, 0.04201680672268908, 0.04201680672268908, 0.04201680672268908, 0.04201680672268908, 0.04201680672268908, 0.03361344537815126, 0.04201680672268908, 0.04201680672268908, 0.04201680672268908, 0.04201680672268908, 0.04201680672268908, 0.04201680672268908, 0.04201680672268908, 0.04201680672268908, 0.03361344537815126, 0.04201680672268908, 0.04201680672268908, 0.04201680672268908, 0.04201680672268908, 0.04201680672268908, 0.04201680672268908, 0.04201680672268908, 0.03361344537815126, 0.04201680672268908, 0.04201680672268908, 0.04201680672268908, 0.04201680672268908, 0.04201680672268908, 0.04201680672268908, 0.04201680672268908, 0.04201680672268908, 0.03361344537815126, 0.04201680672268908, 0.04201680672268908, 0.04201680672268908, 0.04201680672268908, 0.04201680672268908, 0.04201680672268908, 0.04201680672268908, 0.04201680672268908, 0.03361344537815126, 0.04201680672268908, 0.04201680672268908, 0.04201680672268908, 0.04201680672268908, 0.04201680672268908, 0.04201680672268908, 0.04201680672268908, 0.04201680672268908, 0.03361344537815126, 0.04201680672268908, 0.04201680672268908, 0.04201680672268908, 0.04201680672268908, 0.04201680672268908, 0.04201680672268908, 0.04201680672268908, 0.03361344537815126, 0.04201680672268908, 0.04201680672268908, 0.04201680672268908, 0.04201680672268908, 0.04201680672268908, 0.04201680672268908, 0.04201680672268908, 0.025210084033613446, 0.008403361344537815, 0.0, 0.0, 0.0, 0.0, 0.0, 0.0, 0.0, 0.0, 0.0, 0.0, 0.0, 0.0, 0.0, 0.0, 0.0, 0.0, 0.0, 0.0, 0.0, 0.0, 0.0, 0.0, 0.0, 0.0, 0.0, 0.0, 0.0, 0.0, 0.0, 0.0, 0.0, 0.0, 0.0, 0.0, 0.0, 0.0, 0.0, 0.0, 0.0, 0.0, 0.0, 0.0, 0.0, 0.0, 0.0, 0.0, 0.0, 0.0, 0.0, 0.0, 0.0, 0.0, 0.0, 0.0, 0.0, 0.0, 0.0, 0.0, 0.0, 0.0, 0.0, 0.0, 0.0, 0.0, 0.0, 0.0, 0.0, 0.0, 0.0, 0.0, 0.0, 0.0, 0.0, 0.0, 0.0, 0.0, 0.0, 0.0, 0.0, 0.0, 0.0, 0.0, 0.008403361344537815, 0.0, 0.0, 0.0, 0.0, 0.0, 0.0, 0.0, 0.0, 0.0, 0.0, 0.0, 0.0, 0.0, 0.0, 0.0, 0.0, 0.0, 0.0, 0.0, 0.0, 0.008403361344537815, 0.025210084033613446, 0.025210084033613446, 0.01680672268907563, 0.025210084033613446, 0.0, 0.0, 0.0, 0.008403361344537815, 0.0, 0.008403361344537815, 0.0, 0.025210084033613446, 0.008403361344537815, 0.0, 0.0, 0.0, 0.008403361344537815, 0.0, 0.0, 0.0, 0.008403361344537815, 0.35294117647058826, 0.14285714285714285, 0.0, 0.08403361344537816, 0.01680672268907563, 0.025210084033613446, 0.03361344537815126, 0.025210084033613446, 0.42016806722689076, 0.44537815126050423, 0.33613445378151263, 0.6554621848739496, 0.5882352941176471, 0.01680672268907563, 0.09243697478991597, 0.31092436974789917, 0.14285714285714285, 0.15126050420168066, 0.05042016806722689, 0.13445378151260504, 0.31932773109243695, 0.03361344537815126, 0.12605042016806722, 0.09243697478991597, 0.1092436974789916, 0.04201680672268908, 0.03361344537815126, 0.01680672268907563, 0.0, 0.0, 0.05042016806722689, 0.008403361344537815, 0.01680672268907563, 0.008403361344537815, 0.0, 0.0, 0.0, 0.008403361344537815, 0.0, 0.0, 0.008403361344537815, 0.06722689075630252, 0.15966386554621848, 0.01680672268907563, 0.06722689075630252, 0.0, 0.008403361344537815, 0.01680672268907563, 0.025210084033613446, 0.025210084033613446, 0.09243697478991597, 0.025210084033613446, 0.025210084033613446, 0.008403361344537815, 0.0, 0.0, 0.0, 0.0, 0.0, 0.008403361344537815, 0.0, 0.0, 0.0, 0.0, 0.0, 0.0, 0.0, 0.0, 0.0, 0.0, 0.0, 0.0, 0.008403361344537815, 0.0, 0.0, 0.0, 0.0, 0.0, 0.0, 0.0, 0.0, 0.0, 0.0, 0.0, 0.0, 0.0, 0.0, 0.0, 0.0, 0.0, 0.0, 0.0, 0.0, 0.0, 0.0, 0.0, 0.0, 0.0, 0.0, 0.0, 0.0, 0.0, 0.0, 0.008403361344537815, 0.04201680672268908, 0.025210084033613446, 0.008403361344537815, 0.008403361344537815, 0.0, 0.008403361344537815, 0.01680672268907563, 0.01680672268907563, 0.04201680672268908, 0.008403361344537815, 0.008403361344537815, 0.025210084033613446, 0.008403361344537815, 0.025210084033613446, 0.01680672268907563, 0.025210084033613446, 0.008403361344537815, 0.008403361344537815, 0.008403361344537815, 0.08403361344537816, 0.03361344537815126, 0.01680672268907563, 0.03361344537815126, 0.025210084033613446, 0.008403361344537815, 0.008403361344537815, 0.0, 0.0, 0.0, 0.0, 0.0, 0.0, 0.0, 0.008403361344537815, 0.0, 0.008403361344537815, 0.0, 0.0, 0.008403361344537815, 0.0, 0.0, 0.0, 0.008403361344537815, 0.0, 0.0, 0.0, 0.0, 0.008403361344537815, 0.0, 0.0, 0.0, 0.0, 0.008403361344537815, 0.0, 0.0, 0.0, 0.008403361344537815, 0.0, 0.0, 0.0, 0.0, 0.008403361344537815, 0.0, 0.0, 0.0, 0.008403361344537815, 0.0, 0.0, 0.0, 0.0, 0.008403361344537815, 0.0, 0.0, 0.0, 0.008403361344537815, 0.0, 0.0, 0.0, 0.0, 0.008403361344537815, 0.0, 0.0, 0.0, 0.008403361344537815, 0.0, 0.0, 0.0, 0.0, 0.008403361344537815, 0.0, 0.0, 0.0, 0.0, 0.0, 0.0, 0.008403361344537815, 0.0, 0.0, 0.0, 0.0, 0.0, 0.0, 0.0, 0.0, 0.0, 0.0, 0.0, 0.0, 0.0, 0.0, 0.0, 0.0, 0.0, 0.0, 0.0, 0.0, 0.0, 0.0, 0.0, 0.0, 0.0, 0.0, 0.0, 0.0, 0.0, 0.0, 0.0, 0.0, 0.0, 0.0, 0.0, 0.008403361344537815, 0.0, 0.0, 0.0, 0.0, 0.0, 0.0, 0.0, 0.008403361344537815, 0.0, 0.0, 0.0, 0.0, 0.0, 0.0, 0.008403361344537815, 0.0, 0.0, 0.0, 0.0, 0.0, 0.0, 0.0, 0.0, 0.008403361344537815, 0.008403361344537815, 0.0, 0.0, 0.0, 0.0, 0.0, 0.0, 0.0, 0.0, 0.0, 0.008403361344537815, 0.0, 0.0, 0.0, 0.0, 0.0, 0.0, 0.0, 0.0, 0.0, 0.008403361344537815, 0.0, 0.0, 0.0, 0.0, 0.0, 0.0, 0.0, 0.0, 0.0, 0.008403361344537815, 0.0, 0.0, 0.0, 0.0, 0.0, 0.0, 0.0, 0.0, 0.008403361344537815, 0.0, 0.0, 0.0, 0.0, 0.0, 0.0, 0.0, 0.0, 0.0, 0.008403361344537815, 0.0, 0.0, 0.0, 0.0, 0.0, 0.0, 0.0, 0.0, 0.0, 0.01680672268907563, 0.0, 0.0, 0.0, 0.0, 0.0, 0.0, 0.0, 0.0, 0.008403361344537815, 0.008403361344537815, 0.008403361344537815, 0.0, 0.0, 0.0, 0.0, 0.0, 0.0, 0.0, 0.008403361344537815, 0.0, 0.008403361344537815, 0.0, 0.0, 0.008403361344537815, 0.0, 0.0, 0.0, 0.008403361344537815, 0.0, 0.0, 0.0, 0.0, 0.008403361344537815, 0.0, 0.0, 0.0, 0.0, 0.008403361344537815, 0.0, 0.0, 0.0, 0.008403361344537815, 0.0, 0.0, 0.0, 0.0, 0.008403361344537815, 0.0, 0.0, 0.0, 0.008403361344537815, 0.0, 0.0, 0.0, 0.0, 0.008403361344537815, 0.0, 0.0, 0.0, 0.008403361344537815, 0.0, 0.0, 0.0, 0.0, 0.008403361344537815, 0.0, 0.0, 0.0, 0.008403361344537815, 0.0, 0.0, 0.0, 0.0, 0.008403361344537815, 0.0, 0.0, 0.0, 0.0, 0.0, 0.0, 0.008403361344537815, 0.0, 0.0, 0.0, 0.0, 0.0, 0.0, 0.0, 0.0, 0.0, 0.0, 0.0, 0.0, 0.0, 0.0, 0.0, 0.0, 0.0, 0.0, 0.0, 0.0, 0.0, 0.0, 0.0, 0.0, 0.0, 0.0, 0.0, 0.0, 0.0, 0.0, 0.0, 0.0, 0.0, 0.0, 0.0, 0.008403361344537815, 0.0, 0.0, 0.0, 0.0, 0.0, 0.0, 0.0, 0.008403361344537815, 0.0, 0.0, 0.0, 0.0, 0.0, 0.0, 0.008403361344537815, 0.0, 0.0, 0.0, 0.0, 0.0, 0.0, 0.0, 0.0, 0.008403361344537815, 0.008403361344537815, 0.0, 0.0, 0.0, 0.0, 0.0, 0.0, 0.0, 0.0, 0.0, 0.008403361344537815, 0.0, 0.0, 0.0, 0.0, 0.0, 0.0, 0.0, 0.0, 0.0, 0.008403361344537815, 0.0, 0.0, 0.0, 0.0, 0.0, 0.0, 0.0, 0.0, 0.0, 0.008403361344537815, 0.0, 0.0, 0.0, 0.0, 0.0, 0.0, 0.0, 0.0, 0.008403361344537815, 0.0, 0.0, 0.0, 0.0, 0.0, 0.0, 0.0, 0.0, 0.0, 0.008403361344537815, 0.0, 0.0, 0.0, 0.0, 0.0, 0.0, 0.0, 0.0, 0.0, 0.01680672268907563, 0.0, 0.0, 0.0, 0.0, 0.0, 0.0, 0.0, 0.0, 0.008403361344537815, 0.01680672268907563, 0.0, 0.0, 0.0, 0.0, 0.0, 0.0, 0.0, 0.0, 0.0, 0.0, 0.0, 0.0, 0.0, 0.0, 0.0, 0.0, 0.0, 0.0, 0.0, 0.0, 0.0, 0.0, 0.0, 0.0, 0.0, 0.0, 0.0, 0.0, 0.0, 0.0, 0.0, 0.0, 0.0, 0.0, 0.0, 0.0, 0.0, 0.0, 0.0, 0.0, 0.0, 0.0, 0.0, 0.0, 0.0, 0.0, 0.0, 0.0, 0.0, 0.0, 0.0, 0.0, 0.0, 0.0, 0.0, 0.0, 0.0, 0.0, 0.0, 0.0, 0.0, 0.0, 0.0, 0.0, 0.0, 0.0, 0.0, 0.0, 0.0, 0.0, 0.0, 0.0, 0.0, 0.0, 0.0, 0.0, 0.0, 0.0, 0.0, 0.0, 0.0, 0.0, 0.01680672268907563, 0.08403361344537816, 0.0, 0.0, 0.0, 0.0, 0.0, 0.0, 0.0, 0.0, 0.0, 0.0, 0.0, 0.0, 0.0, 0.0, 0.0, 0.0, 0.0, 0.0, 0.0, 0.0, 0.0, 0.0, 0.0, 0.0, 0.0, 0.025210084033613446, 0.0, 0.0, 0.0, 0.0, 0.0, 0.0, 0.0, 0.0, 0.0, 0.0, 0.0, 0.0, 0.0, 0.0, 0.0, 0.0, 0.0, 0.0, 0.0, 0.0, 0.0, 0.0, 0.0, 0.0, 0.0, 0.0, 0.0, 0.0, 0.0, 0.0, 0.0, 0.0, 0.0, 0.0, 0.0, 0.0, 0.0, 0.0, 0.0, 0.0, 0.0, 0.0, 0.0, 0.0, 0.0, 0.0, 0.0, 0.0, 0.0, 0.0, 0.0, 0.0, 0.0, 0.0, 0.0, 0.008403361344537815, 0.01680672268907563, 0.0, 0.0, 0.0, 0.0, 0.0, 0.0, 0.0, 0.0, 0.0, 0.0, 0.0, 0.0, 0.0, 0.0, 0.0, 0.0, 0.0, 0.0, 0.0, 0.0, 0.0, 0.04201680672268908, 0.03361344537815126, 0.0, 0.0, 0.0, 0.0, 0.0, 0.0, 0.0, 0.0, 0.0, 0.0, 0.0, 0.0, 0.0, 0.0, 0.0, 0.0, 0.0, 0.0, 0.0, 0.0, 0.06722689075630252, 0.09243697478991597, 0.025210084033613446, 0.01680672268907563, 0.0, 0.0, 0.0, 0.0, 0.0, 0.0, 0.0, 0.01680672268907563, 0.0, 0.0, 0.0, 0.0, 0.0, 0.0, 0.0, 0.0, 0.0, 0.0, 0.0, 0.0, 0.0, 0.0, 0.01680672268907563, 0.0, 0.0, 0.0, 0.0, 0.0, 0.0, 0.0, 0.0, 0.01680672268907563, 0.0, 0.0, 0.0, 0.0, 0.0, 0.0, 0.0, 0.0, 0.0, 0.0, 0.0, 0.0, 0.0, 0.0, 0.0, 0.0, 0.0, 0.0, 0.0, 0.0, 0.0, 0.0, 0.0, 0.0, 0.0, 0.0, 0.0, 0.0, 0.0, 0.0, 0.0, 0.0, 0.0, 0.0, 0.0, 0.0, 0.0, 0.0, 0.0, 0.0, 0.0, 0.0, 0.0, 0.0, 0.0, 0.0, 0.0, 0.08403361344537816, 0.0, 0.01680672268907563, 0.0, 0.0, 0.0, 0.0, 0.0, 0.0, 0.0, 0.0, 0.0, 0.0, 0.0, 0.0, 0.0, 0.0, 0.0, 0.0, 0.0, 0.0, 0.0, 0.01680672268907563, 0.03361344537815126, 0.0, 0.03361344537815126, 0.0, 0.0, 0.0, 0.0, 0.0, 0.0, 0.0, 0.0, 0.0, 0.0, 0.0, 0.0, 0.0, 0.0, 0.0, 0.0, 0.0, 0.0, 0.0, 0.0, 0.0, 0.03361344537815126, 0.0, 0.0, 0.0, 0.0, 0.0, 0.0, 0.0, 0.0, 0.0, 0.0, 0.0, 0.0, 0.0, 0.0, 0.0, 0.0, 0.0, 0.0, 0.0, 0.0, 0.0, 0.0, 0.0, 0.0, 0.0, 0.0, 0.0, 0.0, 0.0, 0.0, 0.0, 0.0, 0.0, 0.0, 0.0, 0.0, 0.0, 0.0, 0.0, 0.0, 0.0, 0.0, 0.03361344537815126, 0.01680672268907563, 0.05042016806722689, 0.0, 0.0, 0.0, 0.0, 0.0, 0.0, 0.0, 0.0, 0.0, 0.0, 0.0, 0.0, 0.0, 0.0, 0.0, 0.0, 0.0, 0.0, 0.0, 0.0, 0.0, 0.0, 0.0, 0.0, 0.0, 0.0, 0.0, 0.0, 0.0, 0.0, 0.0, 0.0, 0.0, 0.0, 0.0, 0.0, 0.0, 0.0, 0.0, 0.0, 0.0, 0.0, 0.0, 0.0, 0.0, 0.0, 0.0, 0.0, 0.0, 0.0, 0.0, 0.0, 0.0, 0.0, 0.0, 0.0, 0.0, 0.0, 0.0, 0.0, 0.0, 0.0, 0.0, 0.0, 0.0, 0.0, 0.0, 0.0, 0.0, 0.0, 0.0, 0.0, 0.0, 0.0, 0.0, 0.0, 0.0, 0.0, 0.0, 0.0, 0.01680672268907563, 0.03361344537815126]\n"
     ]
    }
   ],
   "source": [
    "# Standardization\n",
    "x  =  dataGroup2 [ 'count' ] \n",
    "mean  =  sum ( x ) / len ( x ) \n",
    "std_dev  =  ( 1 / len ( x )  *  sum ([  ( x_i  -  mean ) ** 2  for  x_i  in  x ])) ** 0.5\n",
    "\n",
    "z_scores  =  [( x_i  -  mean ) / std_dev  for  x_i  in  x ] \n",
    "print ( z_scores ) \n",
    "# Min-Max scaling\n",
    "\n",
    "minmax  =  [( x_i  -  min ( x ))  /  ( max ( x )  -  min ( x ))  for  x_i  in  x ] \n",
    "print ( minmax )"
   ]
  },
  {
   "cell_type": "markdown",
   "metadata": {},
   "source": [
    "### NumPy"
   ]
  },
  {
   "cell_type": "code",
   "execution_count": 8,
   "metadata": {},
   "outputs": [
    {
     "name": "stdout",
     "output_type": "stream",
     "text": [
      "[ 0.49709682  0.16439423  0.82979942 ... -0.33465967 -0.00195707\n",
      "  0.33074552]\n",
      "[0.04201681 0.02521008 0.05882353 ... 0.         0.01680672 0.03361345]\n"
     ]
    }
   ],
   "source": [
    "import  numpy  as  np\n",
    "\n",
    "# Standardization\n",
    "\n",
    "x_np  =  np . asarray ( x ) \n",
    "z_scores_np  =  ( x_np  -  x_np . mean ())  /  x_np . std () \n",
    "print ( z_scores_np )\n",
    "\n",
    "# Min-Max scaling\n",
    "\n",
    "np_minmax  =  ( x_np  -  x_np . min ())  /  ( x_np . max ()  -  x_np . min ()) \n",
    "print ( np_minmax )"
   ]
  },
  {
   "cell_type": "markdown",
   "metadata": {},
   "source": []
  },
  {
   "cell_type": "markdown",
   "metadata": {},
   "source": [
    "###  Visualization "
   ]
  },
  {
   "cell_type": "code",
   "execution_count": 9,
   "metadata": {},
   "outputs": [
    {
     "data": {
      "image/png": "[encoded data removed]",
      "text/plain": [
       "<Figure size 720x360 with 4 Axes>"
      ]
     },
     "metadata": {
      "needs_background": "light"
     },
     "output_type": "display_data"
    }
   ],
   "source": [
    "from  matplotlib  import  pyplot  as  plt\n",
    "x  =  dataGroup2 [ 'count' ] \n",
    "\n",
    "\n",
    "\n",
    "fig ,  (( ax1 ,  ax2 ),  ( ax3 ,  ax4 ))  =  plt . subplots ( nrows = 2 ,  ncols = 2 ,  figsize = ( 10 , 5 ))\n",
    "\n",
    "y_pos  =  [ 0  for  i  in  range ( len ( x ))]\n",
    "\n",
    "ax1 . scatter ( z_scores ,  y_pos ,  color = 'g' ) \n",
    "ax1 . set_title ( 'Python standardization' ,  color = 'g' )\n",
    "\n",
    "ax2 . scatter ( minmax ,  y_pos ,  color = 'g' ) \n",
    "ax2 . set_title ( 'Python Min-Max scaling' ,  color = 'g' )\n",
    "\n",
    "ax3 . scatter ( z_scores_np ,  y_pos ,  color = 'b' ) \n",
    "ax3 . set_title ( 'Python NumPy standardization' ,  color = 'b' )\n",
    "\n",
    "ax4 . scatter ( np_minmax ,  y_pos ,  color = 'b' ) \n",
    "ax4 . set_title ( 'Python NumPy Min-Max scaling' ,  color = 'b' )\n",
    "\n",
    "plt . tight_layout ()\n",
    "\n",
    "for  x  in  ( ax1 ,  ax2 ,  ax3 ,  ax4 ): \n",
    "    x . get_yaxis () . set_visible ( False ) \n",
    "    x . grid ()\n",
    "\n",
    "plt . show ()"
   ]
  },
  {
   "cell_type": "markdown",
   "metadata": {},
   "source": [
    "### 4. Isolation Forest"
   ]
  },
  {
   "cell_type": "code",
   "execution_count": null,
   "metadata": {},
   "outputs": [],
   "source": [
    "from  sklearn.pipeline  import  Pipeline \n",
    "from  sklearn.ensemble  import  IsolationForest\n",
    "\n",
    "dataNorm  =  dataNorm [[ 'count' , 'count_n' ]]\n",
    "\n",
    "# The iloc function allows us to select from one position to another in an array. \n",
    "dataTrain  =  dataNorm . iloc [ 0 : 100]\n",
    "\n",
    "clf  =  IsolationForest ( n_estimators = 100 ,  contamination = 0.00001 ,  max_samples = 10 ) \n",
    "\n",
    "##train Machine\n",
    " \n",
    "clf.behaviour=\"new\"\n",
    "clf.fit ( dataTrain )\n",
    "##Predications\n",
    "prediction  =  clf . predict ( dataNorm )\n",
    "dataGroup2 [ 'prediction' ]  =  prediction \n",
    "dataGroup2 [[ 'count' , 'prediction' ]]"
   ]
  },
  {
   "cell_type": "markdown",
   "metadata": {},
   "source": [
    "## Plot Prediction"
   ]
  },
  {
   "cell_type": "code",
   "execution_count": null,
   "metadata": {},
   "outputs": [],
   "source": [
    "x  =  dataGroup2 [( dataGroup2 [ 'prediction' ]  ==  - 1 )] [ 'count' ] . values\n",
    "\n",
    "%matplotlib inline\n",
    "\n",
    "from  matplotlib  import  pyplot  as  plt\n",
    "\n",
    "def  plot (): \n",
    "    plt . figure ( figsize = ( 8 , 6 ))\n",
    "\n",
    "    plt . scatter ( dataGroup2 [ 'count' ],  dataGroup2 [ 'count' ],  s = 10 ,  label = \"normal\" ,  alpha = 0.3 ,  color = \"blue\" )\n",
    "        \n",
    "    plt . scatter ( x ,  x ,  marker = \"x\" ,  color = \"red\" ,  label = \"anomalies\" ,  alpha = 0.5 )\n",
    "    \n",
    "    plt . legend ( loc = 'upper left' ) \n",
    "    plt . grid ()\n",
    "\n",
    "    plt . tight_layout ()\n",
    "\n",
    "plot () \n",
    "plt . show ()"
   ]
  },
  {
   "cell_type": "markdown",
   "metadata": {},
   "source": [
    "### 4.1 Plot Isolation Forest "
   ]
  },
  {
   "cell_type": "code",
   "execution_count": null,
   "metadata": {},
   "outputs": [],
   "source": [
    "import  numpy  as  np ,  matplotlib.pyplot  as  plt \n",
    "from  matplotlib.colors  import  ListedColormap\n",
    "\n",
    "def  plot_decision ( X ,  y ,  classifier ,  test_idx = None ,  resolution = 0.05 ,  figsize = ( 6 , 6 )):\n",
    "\n",
    "    # setup marker generator and color map \n",
    "    markers  =  ( 's' ,  ' x ' ,  ' o ' ,  ' ^ ' ,  ' v ' ) \n",
    "    colors=[\"red\", \"orange\", \"gold\", \"limegreen\", \"blue\", \"purple\", \"seagreen\"]\n",
    "\n",
    "    cmap  =  ListedColormap ( colors)\n",
    "    \n",
    "    # get dimensions \n",
    "    x1_min ,  x1_max  =  X [:,  0 ] . min ()  -  1 ,  X [:,  0 ] . max ()  +  1 \n",
    "    x2_min ,  x2_max  =  X [:,  1 ] . min ()  -  1 ,  X [:,  1 ] . max ()  +  1 \n",
    "    xx1 ,  xx2  =  np . meshgrid ( np. arange ( x1_min ,  x1_max ,  resolution ),  np . arange ( x2_min ,  x2_max ,  resolution )) \n",
    "    xmin  =  xx1 . min () \n",
    "    xmax  =  xx1 . max () \n",
    "    ymin  =  xx2 . min () \n",
    "    ymax  =  xx2 . max ()\n",
    "    \n",
    "    # create the figure \n",
    "    fig ,  ax  =  plt . subplots ( figsize = figsize ) \n",
    "    ax . set_xlim ( xmin ,  xmax ) \n",
    "    ax . set_ylim ( ymin ,  ymax )\n",
    "    \n",
    "    # plot the decision surface \n",
    "    Z  =  classifier . predict ( np . array ([ xx1 . ravel (),  xx2 . ravel ()]) . T ) \n",
    "    Z  =  Z . reshape ( xx1 . shape ) \n",
    "    ax . contourf ( xx1 ,  xx2 ,  Z ,  alpha = 0.4 ,  cmap = cmap ,  zorder = 1)\n",
    "    \n",
    "    # plot all samples \n",
    "    for  idx ,  cl  in  enumerate ( np . unique ( y )): \n",
    "        ax . scatter ( x = X [ y  ==  cl ,  0 ],  \n",
    "                   y = X [ y  ==  cl ,  1 ], \n",
    "                   alpha = 0.6 ,  \n",
    "                   c = cmap ( idx ), \n",
    "                   edgecolor = 'black' , \n",
    "                   marker = 'o', #markers [idx], \n",
    "                   s = 50 , \n",
    "                   label = cl , \n",
    "                   zorder = 3 )\n",
    "\n",
    "    # Highlight test samples \n",
    "    if  test_idx : \n",
    "        X_test ,  y_test  =  X [ test_idx ,  :], [ test_idx ] \n",
    "        ax . scatter ( X_test [:,  0 ], \n",
    "                   X_test [:,  1 ], \n",
    "                   c = 'w' , \n",
    "                   alpha = 1.0 , \n",
    "                   edgecolor = 'black' , \n",
    "                   linewidths = 1 , \n",
    "                   marker = 'o' , \n",
    "                   s = 150,  \n",
    "                   label = 'test set' , \n",
    "                   zorder = 2 )\n",
    "        \n",
    "dataGroup2 [ 'idpst_label' ],  _  =  pd . factorize ( dataGroup2 [ 'ipsrc' ]) \n",
    "dataGroup2"
   ]
  },
  {
   "cell_type": "code",
   "execution_count": null,
   "metadata": {},
   "outputs": [],
   "source": []
  },
  {
   "cell_type": "code",
   "execution_count": null,
   "metadata": {},
   "outputs": [],
   "source": [
    "import  numpy  as  np ,  pandas  as  pd ,  matplotlib.pyplot  as  plt ,  pydotplus \n",
    "from  sklearn  import  tree ,  metrics ,  model_selection ,  preprocessing \n",
    "from  IPython.display  import  Image ,  display\n",
    "\n",
    "dataGroup2 [ 'idpst_label' ],  _  =  pd . factorize ( dataGroup2 [ 'ipsrc' ])\n",
    "\n",
    "y  =  dataGroup2 [ 'idpst_label' ] \n",
    "X  =  dataGroup2 [[ 'prediction' ,  'count' ]]\n",
    "\n",
    "# split data randomly into 70% training and 30% test \n",
    "X_train ,  X_test ,  y_train ,  y_test  =  model_selection . train_test_split ( X ,  y ,  test_size = 0.3 ,  random_state = 0 )\n",
    "\n",
    "# train the decision tree \n",
    "dtree  =  tree . DecisionTreeClassifier ( criterion = 'entropy' ,  max_depth = 3 ,  random_state = 0 ) \n",
    "dtree . fit ( X_train ,  y_train )\n",
    "\n",
    "# use the model to make predictions with the test data \n",
    "y_pred  =  dtree . predict ( X_test )\n",
    "\n",
    "# how did our model perform? \n",
    "count_misclassified  =  ( y_test !=  y_pred ) . sum () \n",
    "print ( 'Misclassified samples: {} ' . format ( count_misclassified )) \n",
    "accuracy  =  metrics . accuracy_score ( y_test ,  y_pred ) \n",
    "print ( 'Accuracy: {: .2f} ' . format ( accuracy ))\n",
    "\n",
    "# visualize the model's decision regions to see how it separates the samples \n",
    "#X_combined  =  np . vstack (( X_train ,  X_test )) \n",
    "#y_combined  =  np . hstack (( y_train ,  y_test )) \n",
    "#plot_decision ( X = X_combined , y=y_combined  ,  classifier = dtree ) \n",
    "#plt . xlabel ( 'prediction' ) \n",
    "#plt . ylabel ( 'count') \n",
    "#plt . legend ( loc = 'upper left' ) \n",
    "#plt . show ()\n",
    "\n"
   ]
  },
  {
   "cell_type": "code",
   "execution_count": null,
   "metadata": {},
   "outputs": [],
   "source": []
  },
  {
   "cell_type": "code",
   "execution_count": null,
   "metadata": {},
   "outputs": [],
   "source": [
    "import  plotly.plotly  as  py \n",
    "from  plotly  import  __version__ \n",
    "from  plotly.offline  import  download_plotlyjs ,  init_notebook_mode ,  plot ,  iplot \n",
    "from  plotly.graph_objs  import  Scatter ,  Figure ,  Layout \n",
    "init_notebook_mode ( connected = True )\n",
    "\n"
   ]
  },
  {
   "cell_type": "markdown",
   "metadata": {},
   "source": [
    "## 5.1 Unordered Timings \n"
   ]
  },
  {
   "cell_type": "code",
   "execution_count": null,
   "metadata": {},
   "outputs": [],
   "source": [
    "dataGroup2"
   ]
  },
  {
   "cell_type": "code",
   "execution_count": null,
   "metadata": {},
   "outputs": [],
   "source": [
    "#Normal Traffic \n",
    "nor  =  dataGroup2 [( dataGroup2 [ 'prediction' ]  ==  1 )] [ 'count' ] \n",
    "#Anomalies \n",
    "ano  =  dataGroup2 [( dataGroup2 [ 'prediction' ]  ==  - 1 )] [ 'count' ]\n",
    "\n",
    "\n",
    "normal  =  go . Scatter ( \n",
    "    x  =  dataGroup2 [( dataGroup2 [ 'prediction' ]  ==  1 )] [ 'time' ], \n",
    "    y  =  nor , \n",
    "    mode  =  \"lines + markers\" , \n",
    "    name  =  \"Normal Traffic\" \n",
    ")\n",
    "\n",
    "\n",
    "anomalies  =  dict ( \n",
    "    x = dataGroup2 [( dataGroup2 [ 'prediction' ]  ==  - 1 )] [ 'time' ], \n",
    "    y =  ano, \n",
    "    name  =  \"Anomalies\" , \n",
    "    mode  =  'markers' , \n",
    "    \n",
    "    marker = Marker ( \n",
    "            size = 7 , \n",
    "            symbol =  \"circle\" , \n",
    "            color = 'rgb (255, 0, 0)' \n",
    "        ), \n",
    "    opacity  =  0.8 )\n",
    "\n",
    "data  =  [ normal ,  anomalies ]\n",
    "\n",
    "layout  =  dict ( \n",
    "    title = 'Total requests by time' , \n",
    "    xaxis = dict ( \n",
    "        title  =  'Date' , \n",
    "       rangeslider = dict (), \n",
    "        type = 'date' \n",
    "    ), \n",
    "    yaxis = dict ( \n",
    "        title  =  'No. packets' \n",
    "    ), \n",
    "    legend = dict ( \n",
    "        x = 0 , \n",
    "        y = 1 , \n",
    "        traceorder = 'normal' , \n",
    "        font = dict( \n",
    "            family = 'sans-serif' , \n",
    "            size = 12 , \n",
    "            color = '# 000' \n",
    "        ), \n",
    "        bgcolor = '# E2E2E2' , \n",
    "        bordercolor = '#FFFFFF' , \n",
    "        borderwidth = 2 \n",
    "    )  \n",
    ")\n",
    "\n",
    "fig  =  dict ( data=data  ,  layout = layout ) \n",
    "iplot ( fig ,  filename  =  \"Total requests per time\" )\n",
    "\n"
   ]
  },
  {
   "cell_type": "markdown",
   "metadata": {},
   "source": [
    "### 5.2 Ordering Times"
   ]
  },
  {
   "cell_type": "code",
   "execution_count": null,
   "metadata": {},
   "outputs": [],
   "source": [
    "dataGroup3  =  dataGroup2 . sort_values ( by = [ 'time' ]) \n",
    "dataGroup3\n"
   ]
  },
  {
   "cell_type": "code",
   "execution_count": null,
   "metadata": {},
   "outputs": [],
   "source": []
  },
  {
   "cell_type": "code",
   "execution_count": null,
   "metadata": {},
   "outputs": [],
   "source": [
    "#Normal Traffic \n",
    "nor  =  dataGroup3 [( dataGroup2 [ 'prediction' ]  ==  1 )] [ 'count' ] \n",
    "#Anomalies \n",
    "ano  =  dataGroup3 [( dataGroup2 [ 'prediction' ]  ==  - 1 )] [ 'count' ]\n",
    "\n",
    "\n",
    "normal  =  go . Scatter ( \n",
    "    x  =  dataGroup3 [( dataGroup2 [ 'prediction' ]  ==  1 )] [ 'time' ], \n",
    "    y  =  nor , \n",
    "    mode  =  \"lines + markers\" , \n",
    "    name  =  \"Normal Traffic\" \n",
    ")\n",
    "\n",
    "\n",
    "anomalies  =  dict ( \n",
    "    x = dataGroup3 [( dataGroup2 [ 'prediction' ]  ==  - 1 )] [ 'time' ], \n",
    "    y =  ano, \n",
    "    name  =  \"Anomalies\" , \n",
    "    mode  =  'markers' , \n",
    "    \n",
    "    marker = Marker ( \n",
    "            size = 7 , \n",
    "            symbol =  \"circle\" , \n",
    "            color = 'rgb (255, 0, 0)' \n",
    "        ), \n",
    "    opacity  =  0.8 )\n",
    "\n",
    "data  =  [ normal ,  anomalies ]\n",
    "\n",
    "layout  =  dict ( \n",
    "    title = 'Total requests by time' , \n",
    "    xaxis = dict ( \n",
    "       title  =  'Date' , \n",
    "       rangeslider = dict (), \n",
    "        type = 'date' \n",
    "    ), \n",
    "    yaxis = dict ( \n",
    "        title  =  'No. packets' \n",
    "    ), \n",
    "    legend = dict ( \n",
    "        x = 0 , \n",
    "        y = 1 , \n",
    "        traceorder = 'normal' , \n",
    "        font = dict( \n",
    "            family = 'sans-serif' , \n",
    "            size = 12 , \n",
    "            color = '# 000' \n",
    "        ), \n",
    "        bgcolor = '# E2E2E2' , \n",
    "        bordercolor = '#FFFFFF' , \n",
    "        borderwidth = 2 \n",
    "    )  \n",
    ")\n",
    "\n",
    "fig  =  dict ( data=data  ,  layout = layout ) \n",
    "iplot ( fig ,  filename  =  \"Total requests per time\" )\n",
    "\n"
   ]
  },
  {
   "cell_type": "code",
   "execution_count": null,
   "metadata": {},
   "outputs": [],
   "source": [
    "dataGroup4  =  dataGroup2 . groupby ([ 'time' ]) . sum () . reset_index () . dropna () \n",
    "dataGroup4"
   ]
  },
  {
   "cell_type": "code",
   "execution_count": null,
   "metadata": {},
   "outputs": [],
   "source": [
    "#Normal Traffic \n",
    "nor  =  dataGroup4 [( dataGroup4 [ 'prediction' ]  ==  1 )] [ 'count' ] \n",
    "#Anomalies \n",
    "ano  =  dataGroup4 [( dataGroup4 [ 'prediction' ]  ==  - 1 )] [ 'count' ]\n",
    "\n",
    "\n",
    "normal  =  go . Scatter ( \n",
    "    x  =  dataGroup4 [( dataGroup4 [ 'prediction' ]  ==  1 )] [ 'time' ], \n",
    "    y  =  nor , \n",
    "    mode  =  \"lines + markers\" , \n",
    "    name  =  \"Normal Traffic\" \n",
    ")\n",
    "\n",
    "\n",
    "anomalies  =  dict ( \n",
    "    x = dataGroup4 [( dataGroup4 [ 'prediction' ]  ==  - 1 )] [ 'time' ], \n",
    "    y = ano , \n",
    "    name  =  \"Anomalies\" , \n",
    "    mode  =  'markers' , \n",
    "    marker = Marker ( \n",
    "            size = 7 , \n",
    "            symbol =  \"circle\" , \n",
    "            color = 'rgb (255, 0, 0)' \n",
    "        ), \n",
    "    opacity  =  0.8 )\n",
    "\n",
    "data  =  [ normal ,  anomalies ]\n",
    "\n",
    "layout  =  dict ( \n",
    "    title = 'Total requests by time' , \n",
    "    xaxis = dict ( \n",
    "        title  =  'Date' , \n",
    "        rangeslider = dict (), \n",
    "        type = 'date' \n",
    "    ), \n",
    "    yaxis = dict ( \n",
    "        title  =  'No. packets' \n",
    "    ), \n",
    "    legend = dict ( \n",
    "        x = 0 , \n",
    "        y = 1 , \n",
    "        traceorder = 'normal' , \n",
    "        font = dict (\n",
    "            family = 'sans-serif' , \n",
    "            size = 12 , \n",
    "            color = '# 000'\n",
    "         ), \n",
    "        bgcolor = '# E2E2E2' , \n",
    "        bordercolor = '#FFFFFF' , \n",
    "        borderwidth = 2 \n",
    "    )  \n",
    ")\n",
    "\n",
    "fig  =  dict ( data = data ,  layout = layout ) \n",
    "iplot ( fig ,  filename  =  \"Total requests per time\" )\n"
   ]
  },
  {
   "cell_type": "markdown",
   "metadata": {},
   "source": [
    "### 6. Map anomalies"
   ]
  },
  {
   "cell_type": "code",
   "execution_count": null,
   "metadata": {},
   "outputs": [],
   "source": [
    "import  re \n",
    "import  json \n",
    "import urllib.request, json\n",
    "import  plotly.plotly  as  py \n",
    "from  plotly.graph_objs  import  * \n",
    "import  numpy\n",
    "\n",
    "mapbox_access_token  =  'pk.eyJ1IjoiYWxleGZyYW5jb3ciLCJhIjoiY2pnbHlncDF5MHU4OTJ3cGhpNjE1eTV6ZCJ9.9RoVOSpRXa2JE9j_qnELdw'\n",
    "\n",
    "# As the dataframe to be analyzed does not have any public IP, 4 public IPs chosen manually will be used. \n",
    "ips = dataGroup2 [(dataGroup2 ['prediction'] == -1)] ['ipsrc']. values \n",
    "#ips  =  [ '157.240.21.35' , '23 .253.135.79 ' , ' 104.244.42.193 ' ,  ' 213.60.47.49 ' ]\n",
    "\n",
    "\n",
    "outputLat  =  [] \n",
    "outputLon  =  [] \n",
    "for  ip  in  ips : \n",
    "    #url = 'http://ip-api.com/json/'+ip \n",
    "    url  =  ' http://freegeoip.net/json/ ' + ip \n",
    "    response  =  urllib.request.urlopen ( url ) \n",
    "    data  =  json . load ( response ) \n",
    "    print (ip + \":\")\n",
    "    \n",
    "\n",
    "\n",
    "    try : \n",
    "        data [ 'message' ] \n",
    "        print ( \"Private IP\" )\n",
    "\n",
    "    except  ( KeyError ,  TypeError )  as  e : \n",
    "        lat  =  str ( data [ 'latitude' ]) \n",
    "        latList  =  str ( data [ 'latitude' ]) . split () \n",
    "        lon  =  str ( data [ 'longitude' ]) \n",
    "        lonList  =  str ( data [ 'longitude' ]) . split () \n",
    "        #print (lat, lon) \n",
    "        outputLat . append (lat ) \n",
    "        outputLon . append ( lon )\n",
    "        \n",
    "#debug lat and lon array         \n",
    "print (outputLat) \n",
    "print (outputLon)\n",
    "        \n",
    "data  =  Data ([ \n",
    "    Scattermapbox ( \n",
    "        lat = outputLat , \n",
    "        lon = outputLon , \n",
    "        mode = 'markers' , \n",
    "        marker = Marker ( \n",
    "            size = 14 , \n",
    "            color = 'rgb (255, 0, 0)' , \n",
    "            opacity = 0.7 \n",
    "        ), \n",
    "        text = ips , \n",
    "    ),  \n",
    "])\n",
    "\n",
    "#debug data \n",
    "# print (data)\n",
    "\n",
    "layout  =  Layout ( \n",
    "    autosize = True , \n",
    "    hovermode = 'closest' , \n",
    "    showlegend = False , \n",
    "    mapbox = dict ( \n",
    "        accesstoken = mapbox_access_token , \n",
    "        bearing = 0 , \n",
    "        center = dict ( \n",
    "            lat = lat , \n",
    "            lon = lon \n",
    "        ), \n",
    "        pitch = 0 , \n",
    "        style = ' light ' , \n",
    "        zoom = 1 \n",
    "    ),\n",
    "    legend = dict ( \n",
    "        x = 0 , \n",
    "        y = 1 , \n",
    "        traceorder = 'normal' , \n",
    "        font = dict ( \n",
    "            family = 'sans-serif' , \n",
    "            size = 12 , \n",
    "            color = '# 000' \n",
    "        ), \n",
    "        bgcolor = '# E2E2E2' , \n",
    "        bordercolor = '#FFFFFF' , \n",
    "        borderwidth = 2 \n",
    "    ),  \n",
    ")\n",
    "\n",
    "fig  =  dict ( data = data ,  layout = layout ) \n",
    "iplot ( fig ,  filename = 'Montreal Mapbox' )\n"
   ]
  },
  {
   "cell_type": "code",
   "execution_count": null,
   "metadata": {},
   "outputs": [],
   "source": []
  },
  {
   "cell_type": "code",
   "execution_count": null,
   "metadata": {},
   "outputs": [],
   "source": [
    "dataGroup2\n"
   ]
  },
  {
   "cell_type": "code",
   "execution_count": null,
   "metadata": {},
   "outputs": [],
   "source": []
  },
  {
   "cell_type": "code",
   "execution_count": null,
   "metadata": {},
   "outputs": [],
   "source": []
  },
  {
   "cell_type": "code",
   "execution_count": null,
   "metadata": {},
   "outputs": [],
   "source": []
  }
 ],
 "metadata": {
  "anaconda-cloud": {},
  "kernelspec": {
   "display_name": "Python 3",
   "language": "python",
   "name": "python3"
  },
  "language_info": {
   "codemirror_mode": {
    "name": "ipython",
    "version": 3
   },
   "file_extension": ".py",
   "mimetype": "text/x-python",
   "name": "python",
   "nbconvert_exporter": "python",
   "pygments_lexer": "ipython3",
   "version": "3.7.1"
  }
 },
 "nbformat": 4,
 "nbformat_minor": 2
}
